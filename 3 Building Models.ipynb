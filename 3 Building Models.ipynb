{
 "cells": [
  {
   "cell_type": "code",
   "execution_count": 1,
   "metadata": {},
   "outputs": [
    {
     "data": {
      "text/html": [
       "<div>\n",
       "<style scoped>\n",
       "    .dataframe tbody tr th:only-of-type {\n",
       "        vertical-align: middle;\n",
       "    }\n",
       "\n",
       "    .dataframe tbody tr th {\n",
       "        vertical-align: top;\n",
       "    }\n",
       "\n",
       "    .dataframe thead th {\n",
       "        text-align: right;\n",
       "    }\n",
       "</style>\n",
       "<table border=\"1\" class=\"dataframe\">\n",
       "  <thead>\n",
       "    <tr style=\"text-align: right;\">\n",
       "      <th></th>\n",
       "      <th>CASE_STATUS</th>\n",
       "      <th>AGENT_REPRESENTING_EMPLOYER</th>\n",
       "      <th>FULL_TIME_POSITION</th>\n",
       "      <th>TOTAL_WORKER_POSITIONS</th>\n",
       "      <th>H-1B_DEPENDENT</th>\n",
       "      <th>WILLFUL_VIOLATOR</th>\n",
       "      <th>SECONDARY_ENTITY</th>\n",
       "      <th>PREVAILING_WAGE_YEARLY</th>\n",
       "      <th>MEAN_WAGE_RATE_YEARLY</th>\n",
       "      <th>SOC_CODE_MAIN_CATEGORY</th>\n",
       "      <th>NAICS_CODE_MAIN_CATEGORY</th>\n",
       "    </tr>\n",
       "  </thead>\n",
       "  <tbody>\n",
       "    <tr>\n",
       "      <th>0</th>\n",
       "      <td>CERTIFIED</td>\n",
       "      <td>Y</td>\n",
       "      <td>Y</td>\n",
       "      <td>1.0</td>\n",
       "      <td>N</td>\n",
       "      <td>N</td>\n",
       "      <td>N</td>\n",
       "      <td>154232.0</td>\n",
       "      <td>189816.0</td>\n",
       "      <td>11</td>\n",
       "      <td>33</td>\n",
       "    </tr>\n",
       "    <tr>\n",
       "      <th>1</th>\n",
       "      <td>CERTIFIED</td>\n",
       "      <td>Y</td>\n",
       "      <td>N</td>\n",
       "      <td>1.0</td>\n",
       "      <td>N</td>\n",
       "      <td>N</td>\n",
       "      <td>N</td>\n",
       "      <td>97780.8</td>\n",
       "      <td>97780.8</td>\n",
       "      <td>11</td>\n",
       "      <td>51</td>\n",
       "    </tr>\n",
       "    <tr>\n",
       "      <th>2</th>\n",
       "      <td>CERTIFIED</td>\n",
       "      <td>Y</td>\n",
       "      <td>Y</td>\n",
       "      <td>1.0</td>\n",
       "      <td>N</td>\n",
       "      <td>N</td>\n",
       "      <td>N</td>\n",
       "      <td>47549.0</td>\n",
       "      <td>47549.0</td>\n",
       "      <td>11</td>\n",
       "      <td>54</td>\n",
       "    </tr>\n",
       "    <tr>\n",
       "      <th>3</th>\n",
       "      <td>CERTIFIED</td>\n",
       "      <td>Y</td>\n",
       "      <td>Y</td>\n",
       "      <td>1.0</td>\n",
       "      <td>Y</td>\n",
       "      <td>N</td>\n",
       "      <td>N</td>\n",
       "      <td>156146.0</td>\n",
       "      <td>214230.0</td>\n",
       "      <td>11</td>\n",
       "      <td>51</td>\n",
       "    </tr>\n",
       "    <tr>\n",
       "      <th>4</th>\n",
       "      <td>CERTIFIED</td>\n",
       "      <td>Y</td>\n",
       "      <td>Y</td>\n",
       "      <td>1.0</td>\n",
       "      <td>N</td>\n",
       "      <td>N</td>\n",
       "      <td>N</td>\n",
       "      <td>75026.0</td>\n",
       "      <td>100000.0</td>\n",
       "      <td>11</td>\n",
       "      <td>31</td>\n",
       "    </tr>\n",
       "  </tbody>\n",
       "</table>\n",
       "</div>"
      ],
      "text/plain": [
       "  CASE_STATUS AGENT_REPRESENTING_EMPLOYER FULL_TIME_POSITION  \\\n",
       "0   CERTIFIED                           Y                  Y   \n",
       "1   CERTIFIED                           Y                  N   \n",
       "2   CERTIFIED                           Y                  Y   \n",
       "3   CERTIFIED                           Y                  Y   \n",
       "4   CERTIFIED                           Y                  Y   \n",
       "\n",
       "   TOTAL_WORKER_POSITIONS H-1B_DEPENDENT WILLFUL_VIOLATOR SECONDARY_ENTITY  \\\n",
       "0                     1.0              N                N                N   \n",
       "1                     1.0              N                N                N   \n",
       "2                     1.0              N                N                N   \n",
       "3                     1.0              Y                N                N   \n",
       "4                     1.0              N                N                N   \n",
       "\n",
       "   PREVAILING_WAGE_YEARLY  MEAN_WAGE_RATE_YEARLY  SOC_CODE_MAIN_CATEGORY  \\\n",
       "0                154232.0               189816.0                      11   \n",
       "1                 97780.8                97780.8                      11   \n",
       "2                 47549.0                47549.0                      11   \n",
       "3                156146.0               214230.0                      11   \n",
       "4                 75026.0               100000.0                      11   \n",
       "\n",
       "   NAICS_CODE_MAIN_CATEGORY  \n",
       "0                        33  \n",
       "1                        51  \n",
       "2                        54  \n",
       "3                        51  \n",
       "4                        31  "
      ]
     },
     "execution_count": 1,
     "metadata": {},
     "output_type": "execute_result"
    }
   ],
   "source": [
    "import pandas as pd\n",
    "import numpy as np\n",
    "\n",
    "df_1 = pd.read_csv(\"for_analysis.csv\", sep = \",\", index_col = 0)\n",
    "df_1.head()"
   ]
  },
  {
   "cell_type": "code",
   "execution_count": 2,
   "metadata": {},
   "outputs": [
    {
     "data": {
      "text/plain": [
       "CASE_STATUS                     object\n",
       "AGENT_REPRESENTING_EMPLOYER     object\n",
       "FULL_TIME_POSITION              object\n",
       "TOTAL_WORKER_POSITIONS         float64\n",
       "H-1B_DEPENDENT                  object\n",
       "WILLFUL_VIOLATOR                object\n",
       "SECONDARY_ENTITY                object\n",
       "PREVAILING_WAGE_YEARLY         float64\n",
       "MEAN_WAGE_RATE_YEARLY          float64\n",
       "SOC_CODE_MAIN_CATEGORY           int64\n",
       "NAICS_CODE_MAIN_CATEGORY         int64\n",
       "dtype: object"
      ]
     },
     "execution_count": 2,
     "metadata": {},
     "output_type": "execute_result"
    }
   ],
   "source": [
    "df_1.dtypes"
   ]
  },
  {
   "cell_type": "code",
   "execution_count": 3,
   "metadata": {},
   "outputs": [
    {
     "data": {
      "text/plain": [
       "False"
      ]
     },
     "execution_count": 3,
     "metadata": {},
     "output_type": "execute_result"
    }
   ],
   "source": [
    "df_1.isnull().values.any()"
   ]
  },
  {
   "cell_type": "code",
   "execution_count": 4,
   "metadata": {},
   "outputs": [
    {
     "data": {
      "text/plain": [
       "CERTIFIED    505522\n",
       "DENIED         2810\n",
       "Name: CASE_STATUS, dtype: int64"
      ]
     },
     "execution_count": 4,
     "metadata": {},
     "output_type": "execute_result"
    }
   ],
   "source": [
    "df_1.CASE_STATUS.value_counts()"
   ]
  },
  {
   "cell_type": "code",
   "execution_count": 5,
   "metadata": {},
   "outputs": [
    {
     "data": {
      "text/html": [
       "<div>\n",
       "<style scoped>\n",
       "    .dataframe tbody tr th:only-of-type {\n",
       "        vertical-align: middle;\n",
       "    }\n",
       "\n",
       "    .dataframe tbody tr th {\n",
       "        vertical-align: top;\n",
       "    }\n",
       "\n",
       "    .dataframe thead th {\n",
       "        text-align: right;\n",
       "    }\n",
       "</style>\n",
       "<table border=\"1\" class=\"dataframe\">\n",
       "  <thead>\n",
       "    <tr style=\"text-align: right;\">\n",
       "      <th></th>\n",
       "      <th>TOTAL_WORKER_POSITIONS</th>\n",
       "      <th>PREVAILING_WAGE_YEARLY</th>\n",
       "      <th>MEAN_WAGE_RATE_YEARLY</th>\n",
       "      <th>CASE_STATUS_DENIED</th>\n",
       "      <th>AGENT_REPRESENTING_EMPLOYER_Y</th>\n",
       "      <th>FULL_TIME_POSITION_Y</th>\n",
       "      <th>H-1B_DEPENDENT_Y</th>\n",
       "      <th>WILLFUL_VIOLATOR_Y</th>\n",
       "      <th>SECONDARY_ENTITY_Y</th>\n",
       "      <th>SOC_CODE_MAIN_CATEGORY_13</th>\n",
       "      <th>...</th>\n",
       "      <th>NAICS_CODE_MAIN_CATEGORY_53</th>\n",
       "      <th>NAICS_CODE_MAIN_CATEGORY_54</th>\n",
       "      <th>NAICS_CODE_MAIN_CATEGORY_55</th>\n",
       "      <th>NAICS_CODE_MAIN_CATEGORY_56</th>\n",
       "      <th>NAICS_CODE_MAIN_CATEGORY_61</th>\n",
       "      <th>NAICS_CODE_MAIN_CATEGORY_62</th>\n",
       "      <th>NAICS_CODE_MAIN_CATEGORY_71</th>\n",
       "      <th>NAICS_CODE_MAIN_CATEGORY_72</th>\n",
       "      <th>NAICS_CODE_MAIN_CATEGORY_81</th>\n",
       "      <th>NAICS_CODE_MAIN_CATEGORY_92</th>\n",
       "    </tr>\n",
       "  </thead>\n",
       "  <tbody>\n",
       "    <tr>\n",
       "      <th>0</th>\n",
       "      <td>1.0</td>\n",
       "      <td>154232.0</td>\n",
       "      <td>189816.0</td>\n",
       "      <td>0</td>\n",
       "      <td>1</td>\n",
       "      <td>1</td>\n",
       "      <td>0</td>\n",
       "      <td>0</td>\n",
       "      <td>0</td>\n",
       "      <td>0</td>\n",
       "      <td>...</td>\n",
       "      <td>0</td>\n",
       "      <td>0</td>\n",
       "      <td>0</td>\n",
       "      <td>0</td>\n",
       "      <td>0</td>\n",
       "      <td>0</td>\n",
       "      <td>0</td>\n",
       "      <td>0</td>\n",
       "      <td>0</td>\n",
       "      <td>0</td>\n",
       "    </tr>\n",
       "    <tr>\n",
       "      <th>1</th>\n",
       "      <td>1.0</td>\n",
       "      <td>97780.8</td>\n",
       "      <td>97780.8</td>\n",
       "      <td>0</td>\n",
       "      <td>1</td>\n",
       "      <td>0</td>\n",
       "      <td>0</td>\n",
       "      <td>0</td>\n",
       "      <td>0</td>\n",
       "      <td>0</td>\n",
       "      <td>...</td>\n",
       "      <td>0</td>\n",
       "      <td>0</td>\n",
       "      <td>0</td>\n",
       "      <td>0</td>\n",
       "      <td>0</td>\n",
       "      <td>0</td>\n",
       "      <td>0</td>\n",
       "      <td>0</td>\n",
       "      <td>0</td>\n",
       "      <td>0</td>\n",
       "    </tr>\n",
       "    <tr>\n",
       "      <th>2</th>\n",
       "      <td>1.0</td>\n",
       "      <td>47549.0</td>\n",
       "      <td>47549.0</td>\n",
       "      <td>0</td>\n",
       "      <td>1</td>\n",
       "      <td>1</td>\n",
       "      <td>0</td>\n",
       "      <td>0</td>\n",
       "      <td>0</td>\n",
       "      <td>0</td>\n",
       "      <td>...</td>\n",
       "      <td>0</td>\n",
       "      <td>1</td>\n",
       "      <td>0</td>\n",
       "      <td>0</td>\n",
       "      <td>0</td>\n",
       "      <td>0</td>\n",
       "      <td>0</td>\n",
       "      <td>0</td>\n",
       "      <td>0</td>\n",
       "      <td>0</td>\n",
       "    </tr>\n",
       "    <tr>\n",
       "      <th>3</th>\n",
       "      <td>1.0</td>\n",
       "      <td>156146.0</td>\n",
       "      <td>214230.0</td>\n",
       "      <td>0</td>\n",
       "      <td>1</td>\n",
       "      <td>1</td>\n",
       "      <td>1</td>\n",
       "      <td>0</td>\n",
       "      <td>0</td>\n",
       "      <td>0</td>\n",
       "      <td>...</td>\n",
       "      <td>0</td>\n",
       "      <td>0</td>\n",
       "      <td>0</td>\n",
       "      <td>0</td>\n",
       "      <td>0</td>\n",
       "      <td>0</td>\n",
       "      <td>0</td>\n",
       "      <td>0</td>\n",
       "      <td>0</td>\n",
       "      <td>0</td>\n",
       "    </tr>\n",
       "    <tr>\n",
       "      <th>4</th>\n",
       "      <td>1.0</td>\n",
       "      <td>75026.0</td>\n",
       "      <td>100000.0</td>\n",
       "      <td>0</td>\n",
       "      <td>1</td>\n",
       "      <td>1</td>\n",
       "      <td>0</td>\n",
       "      <td>0</td>\n",
       "      <td>0</td>\n",
       "      <td>0</td>\n",
       "      <td>...</td>\n",
       "      <td>0</td>\n",
       "      <td>0</td>\n",
       "      <td>0</td>\n",
       "      <td>0</td>\n",
       "      <td>0</td>\n",
       "      <td>0</td>\n",
       "      <td>0</td>\n",
       "      <td>0</td>\n",
       "      <td>0</td>\n",
       "      <td>0</td>\n",
       "    </tr>\n",
       "  </tbody>\n",
       "</table>\n",
       "<p>5 rows × 58 columns</p>\n",
       "</div>"
      ],
      "text/plain": [
       "   TOTAL_WORKER_POSITIONS  PREVAILING_WAGE_YEARLY  MEAN_WAGE_RATE_YEARLY  \\\n",
       "0                     1.0                154232.0               189816.0   \n",
       "1                     1.0                 97780.8                97780.8   \n",
       "2                     1.0                 47549.0                47549.0   \n",
       "3                     1.0                156146.0               214230.0   \n",
       "4                     1.0                 75026.0               100000.0   \n",
       "\n",
       "   CASE_STATUS_DENIED  AGENT_REPRESENTING_EMPLOYER_Y  FULL_TIME_POSITION_Y  \\\n",
       "0                   0                              1                     1   \n",
       "1                   0                              1                     0   \n",
       "2                   0                              1                     1   \n",
       "3                   0                              1                     1   \n",
       "4                   0                              1                     1   \n",
       "\n",
       "   H-1B_DEPENDENT_Y  WILLFUL_VIOLATOR_Y  SECONDARY_ENTITY_Y  \\\n",
       "0                 0                   0                   0   \n",
       "1                 0                   0                   0   \n",
       "2                 0                   0                   0   \n",
       "3                 1                   0                   0   \n",
       "4                 0                   0                   0   \n",
       "\n",
       "   SOC_CODE_MAIN_CATEGORY_13  ...  NAICS_CODE_MAIN_CATEGORY_53  \\\n",
       "0                          0  ...                            0   \n",
       "1                          0  ...                            0   \n",
       "2                          0  ...                            0   \n",
       "3                          0  ...                            0   \n",
       "4                          0  ...                            0   \n",
       "\n",
       "   NAICS_CODE_MAIN_CATEGORY_54  NAICS_CODE_MAIN_CATEGORY_55  \\\n",
       "0                            0                            0   \n",
       "1                            0                            0   \n",
       "2                            1                            0   \n",
       "3                            0                            0   \n",
       "4                            0                            0   \n",
       "\n",
       "   NAICS_CODE_MAIN_CATEGORY_56  NAICS_CODE_MAIN_CATEGORY_61  \\\n",
       "0                            0                            0   \n",
       "1                            0                            0   \n",
       "2                            0                            0   \n",
       "3                            0                            0   \n",
       "4                            0                            0   \n",
       "\n",
       "   NAICS_CODE_MAIN_CATEGORY_62  NAICS_CODE_MAIN_CATEGORY_71  \\\n",
       "0                            0                            0   \n",
       "1                            0                            0   \n",
       "2                            0                            0   \n",
       "3                            0                            0   \n",
       "4                            0                            0   \n",
       "\n",
       "   NAICS_CODE_MAIN_CATEGORY_72  NAICS_CODE_MAIN_CATEGORY_81  \\\n",
       "0                            0                            0   \n",
       "1                            0                            0   \n",
       "2                            0                            0   \n",
       "3                            0                            0   \n",
       "4                            0                            0   \n",
       "\n",
       "   NAICS_CODE_MAIN_CATEGORY_92  \n",
       "0                            0  \n",
       "1                            0  \n",
       "2                            0  \n",
       "3                            0  \n",
       "4                            0  \n",
       "\n",
       "[5 rows x 58 columns]"
      ]
     },
     "execution_count": 5,
     "metadata": {},
     "output_type": "execute_result"
    }
   ],
   "source": [
    "df_col = ['CASE_STATUS', 'AGENT_REPRESENTING_EMPLOYER','FULL_TIME_POSITION','H-1B_DEPENDENT',\n",
    "            'WILLFUL_VIOLATOR','SECONDARY_ENTITY',\n",
    "              'SOC_CODE_MAIN_CATEGORY','NAICS_CODE_MAIN_CATEGORY']\n",
    "df_2 = pd.get_dummies(df_1,columns = df_col, drop_first=True)\n",
    "df_2.head()"
   ]
  },
  {
   "cell_type": "markdown",
   "metadata": {},
   "source": [
    "### Scaling the data using log function"
   ]
  },
  {
   "cell_type": "code",
   "execution_count": 6,
   "metadata": {},
   "outputs": [
    {
     "data": {
      "text/html": [
       "<div>\n",
       "<style scoped>\n",
       "    .dataframe tbody tr th:only-of-type {\n",
       "        vertical-align: middle;\n",
       "    }\n",
       "\n",
       "    .dataframe tbody tr th {\n",
       "        vertical-align: top;\n",
       "    }\n",
       "\n",
       "    .dataframe thead th {\n",
       "        text-align: right;\n",
       "    }\n",
       "</style>\n",
       "<table border=\"1\" class=\"dataframe\">\n",
       "  <thead>\n",
       "    <tr style=\"text-align: right;\">\n",
       "      <th></th>\n",
       "      <th>TOTAL_WORKER_POSITIONS</th>\n",
       "      <th>PREVAILING_WAGE_YEARLY</th>\n",
       "      <th>MEAN_WAGE_RATE_YEARLY</th>\n",
       "      <th>CASE_STATUS_DENIED</th>\n",
       "      <th>AGENT_REPRESENTING_EMPLOYER_Y</th>\n",
       "      <th>FULL_TIME_POSITION_Y</th>\n",
       "      <th>H-1B_DEPENDENT_Y</th>\n",
       "      <th>WILLFUL_VIOLATOR_Y</th>\n",
       "      <th>SECONDARY_ENTITY_Y</th>\n",
       "      <th>SOC_CODE_MAIN_CATEGORY_13</th>\n",
       "      <th>...</th>\n",
       "      <th>NAICS_CODE_MAIN_CATEGORY_53</th>\n",
       "      <th>NAICS_CODE_MAIN_CATEGORY_54</th>\n",
       "      <th>NAICS_CODE_MAIN_CATEGORY_55</th>\n",
       "      <th>NAICS_CODE_MAIN_CATEGORY_56</th>\n",
       "      <th>NAICS_CODE_MAIN_CATEGORY_61</th>\n",
       "      <th>NAICS_CODE_MAIN_CATEGORY_62</th>\n",
       "      <th>NAICS_CODE_MAIN_CATEGORY_71</th>\n",
       "      <th>NAICS_CODE_MAIN_CATEGORY_72</th>\n",
       "      <th>NAICS_CODE_MAIN_CATEGORY_81</th>\n",
       "      <th>NAICS_CODE_MAIN_CATEGORY_92</th>\n",
       "    </tr>\n",
       "  </thead>\n",
       "  <tbody>\n",
       "    <tr>\n",
       "      <th>0</th>\n",
       "      <td>0.0</td>\n",
       "      <td>11.946213</td>\n",
       "      <td>12.153810</td>\n",
       "      <td>0</td>\n",
       "      <td>1</td>\n",
       "      <td>1</td>\n",
       "      <td>0</td>\n",
       "      <td>0</td>\n",
       "      <td>0</td>\n",
       "      <td>0</td>\n",
       "      <td>...</td>\n",
       "      <td>0</td>\n",
       "      <td>0</td>\n",
       "      <td>0</td>\n",
       "      <td>0</td>\n",
       "      <td>0</td>\n",
       "      <td>0</td>\n",
       "      <td>0</td>\n",
       "      <td>0</td>\n",
       "      <td>0</td>\n",
       "      <td>0</td>\n",
       "    </tr>\n",
       "    <tr>\n",
       "      <th>1</th>\n",
       "      <td>0.0</td>\n",
       "      <td>11.490484</td>\n",
       "      <td>11.490484</td>\n",
       "      <td>0</td>\n",
       "      <td>1</td>\n",
       "      <td>0</td>\n",
       "      <td>0</td>\n",
       "      <td>0</td>\n",
       "      <td>0</td>\n",
       "      <td>0</td>\n",
       "      <td>...</td>\n",
       "      <td>0</td>\n",
       "      <td>0</td>\n",
       "      <td>0</td>\n",
       "      <td>0</td>\n",
       "      <td>0</td>\n",
       "      <td>0</td>\n",
       "      <td>0</td>\n",
       "      <td>0</td>\n",
       "      <td>0</td>\n",
       "      <td>0</td>\n",
       "    </tr>\n",
       "    <tr>\n",
       "      <th>2</th>\n",
       "      <td>0.0</td>\n",
       "      <td>10.769516</td>\n",
       "      <td>10.769516</td>\n",
       "      <td>0</td>\n",
       "      <td>1</td>\n",
       "      <td>1</td>\n",
       "      <td>0</td>\n",
       "      <td>0</td>\n",
       "      <td>0</td>\n",
       "      <td>0</td>\n",
       "      <td>...</td>\n",
       "      <td>0</td>\n",
       "      <td>1</td>\n",
       "      <td>0</td>\n",
       "      <td>0</td>\n",
       "      <td>0</td>\n",
       "      <td>0</td>\n",
       "      <td>0</td>\n",
       "      <td>0</td>\n",
       "      <td>0</td>\n",
       "      <td>0</td>\n",
       "    </tr>\n",
       "    <tr>\n",
       "      <th>3</th>\n",
       "      <td>0.0</td>\n",
       "      <td>11.958547</td>\n",
       "      <td>12.274805</td>\n",
       "      <td>0</td>\n",
       "      <td>1</td>\n",
       "      <td>1</td>\n",
       "      <td>1</td>\n",
       "      <td>0</td>\n",
       "      <td>0</td>\n",
       "      <td>0</td>\n",
       "      <td>...</td>\n",
       "      <td>0</td>\n",
       "      <td>0</td>\n",
       "      <td>0</td>\n",
       "      <td>0</td>\n",
       "      <td>0</td>\n",
       "      <td>0</td>\n",
       "      <td>0</td>\n",
       "      <td>0</td>\n",
       "      <td>0</td>\n",
       "      <td>0</td>\n",
       "    </tr>\n",
       "    <tr>\n",
       "      <th>4</th>\n",
       "      <td>0.0</td>\n",
       "      <td>11.225590</td>\n",
       "      <td>11.512925</td>\n",
       "      <td>0</td>\n",
       "      <td>1</td>\n",
       "      <td>1</td>\n",
       "      <td>0</td>\n",
       "      <td>0</td>\n",
       "      <td>0</td>\n",
       "      <td>0</td>\n",
       "      <td>...</td>\n",
       "      <td>0</td>\n",
       "      <td>0</td>\n",
       "      <td>0</td>\n",
       "      <td>0</td>\n",
       "      <td>0</td>\n",
       "      <td>0</td>\n",
       "      <td>0</td>\n",
       "      <td>0</td>\n",
       "      <td>0</td>\n",
       "      <td>0</td>\n",
       "    </tr>\n",
       "  </tbody>\n",
       "</table>\n",
       "<p>5 rows × 58 columns</p>\n",
       "</div>"
      ],
      "text/plain": [
       "   TOTAL_WORKER_POSITIONS  PREVAILING_WAGE_YEARLY  MEAN_WAGE_RATE_YEARLY  \\\n",
       "0                     0.0               11.946213              12.153810   \n",
       "1                     0.0               11.490484              11.490484   \n",
       "2                     0.0               10.769516              10.769516   \n",
       "3                     0.0               11.958547              12.274805   \n",
       "4                     0.0               11.225590              11.512925   \n",
       "\n",
       "   CASE_STATUS_DENIED  AGENT_REPRESENTING_EMPLOYER_Y  FULL_TIME_POSITION_Y  \\\n",
       "0                   0                              1                     1   \n",
       "1                   0                              1                     0   \n",
       "2                   0                              1                     1   \n",
       "3                   0                              1                     1   \n",
       "4                   0                              1                     1   \n",
       "\n",
       "   H-1B_DEPENDENT_Y  WILLFUL_VIOLATOR_Y  SECONDARY_ENTITY_Y  \\\n",
       "0                 0                   0                   0   \n",
       "1                 0                   0                   0   \n",
       "2                 0                   0                   0   \n",
       "3                 1                   0                   0   \n",
       "4                 0                   0                   0   \n",
       "\n",
       "   SOC_CODE_MAIN_CATEGORY_13  ...  NAICS_CODE_MAIN_CATEGORY_53  \\\n",
       "0                          0  ...                            0   \n",
       "1                          0  ...                            0   \n",
       "2                          0  ...                            0   \n",
       "3                          0  ...                            0   \n",
       "4                          0  ...                            0   \n",
       "\n",
       "   NAICS_CODE_MAIN_CATEGORY_54  NAICS_CODE_MAIN_CATEGORY_55  \\\n",
       "0                            0                            0   \n",
       "1                            0                            0   \n",
       "2                            1                            0   \n",
       "3                            0                            0   \n",
       "4                            0                            0   \n",
       "\n",
       "   NAICS_CODE_MAIN_CATEGORY_56  NAICS_CODE_MAIN_CATEGORY_61  \\\n",
       "0                            0                            0   \n",
       "1                            0                            0   \n",
       "2                            0                            0   \n",
       "3                            0                            0   \n",
       "4                            0                            0   \n",
       "\n",
       "   NAICS_CODE_MAIN_CATEGORY_62  NAICS_CODE_MAIN_CATEGORY_71  \\\n",
       "0                            0                            0   \n",
       "1                            0                            0   \n",
       "2                            0                            0   \n",
       "3                            0                            0   \n",
       "4                            0                            0   \n",
       "\n",
       "   NAICS_CODE_MAIN_CATEGORY_72  NAICS_CODE_MAIN_CATEGORY_81  \\\n",
       "0                            0                            0   \n",
       "1                            0                            0   \n",
       "2                            0                            0   \n",
       "3                            0                            0   \n",
       "4                            0                            0   \n",
       "\n",
       "   NAICS_CODE_MAIN_CATEGORY_92  \n",
       "0                            0  \n",
       "1                            0  \n",
       "2                            0  \n",
       "3                            0  \n",
       "4                            0  \n",
       "\n",
       "[5 rows x 58 columns]"
      ]
     },
     "execution_count": 6,
     "metadata": {},
     "output_type": "execute_result"
    }
   ],
   "source": [
    "df_3 = df_2.copy()\n",
    "df_3[['TOTAL_WORKER_POSITIONS','PREVAILING_WAGE_YEARLY','MEAN_WAGE_RATE_YEARLY']] = pd.DataFrame(np.log(df_2[['TOTAL_WORKER_POSITIONS','PREVAILING_WAGE_YEARLY','MEAN_WAGE_RATE_YEARLY']]))\n",
    "\n",
    "df_3.head()"
   ]
  },
  {
   "cell_type": "markdown",
   "metadata": {},
   "source": [
    "### SPECIFYING TARGET AND INDEPENDENT DATA"
   ]
  },
  {
   "cell_type": "code",
   "execution_count": 44,
   "metadata": {},
   "outputs": [
    {
     "data": {
      "text/plain": [
       "(508332, 57)"
      ]
     },
     "execution_count": 44,
     "metadata": {},
     "output_type": "execute_result"
    }
   ],
   "source": [
    "X = df_3.drop('CASE_STATUS_DENIED', axis = 1)\n",
    "y = df_3['CASE_STATUS_DENIED']\n",
    "X.shape"
   ]
  },
  {
   "cell_type": "markdown",
   "metadata": {},
   "source": [
    "### Feature Selection using SelectFromModel and LogisticRegression : 57 TO 24 FEATURES"
   ]
  },
  {
   "cell_type": "code",
   "execution_count": 8,
   "metadata": {},
   "outputs": [
    {
     "data": {
      "text/plain": [
       "array([[ 0.2110218 , -0.48895614,  0.27600634, -0.46570307, -0.91089609,\n",
       "        -0.72381091,  1.24362388, -0.64252411, -0.03620763, -0.53852058,\n",
       "        -0.40751508, -0.81299234,  0.51735878,  0.9076995 , -0.06300179,\n",
       "         0.25239064,  0.07023585,  0.54697134, -0.09525067,  2.31375916,\n",
       "         0.66804791,  0.45154645, -0.24801785,  0.87899209, -0.12222308,\n",
       "         0.79591712,  2.02112965,  0.85194945,  0.84281741,  0.95580528,\n",
       "        -0.00669787, -0.11024956,  0.04251267,  0.48485177, -0.00986628,\n",
       "         0.15423129,  0.02276023, -0.40917874, -0.01037977,  0.31063521,\n",
       "         0.1267068 , -0.64515326, -0.09592371, -0.94373499, -0.02289264,\n",
       "        -0.47268826, -0.72790697,  0.24890865, -0.13752221, -0.11324863,\n",
       "         0.32112998, -0.71547803,  0.0484257 ,  0.40549289,  0.34305965,\n",
       "         0.24360486,  0.35508794]])"
      ]
     },
     "execution_count": 8,
     "metadata": {},
     "output_type": "execute_result"
    }
   ],
   "source": [
    "from sklearn.feature_selection import SelectFromModel\n",
    "from sklearn.linear_model import LogisticRegression\n",
    "\n",
    "model_1 = SelectFromModel(estimator=LogisticRegression(max_iter=5000)).fit(X, y)\n",
    "model_1.estimator_.coef_"
   ]
  },
  {
   "cell_type": "code",
   "execution_count": 9,
   "metadata": {},
   "outputs": [
    {
     "data": {
      "text/plain": [
       "0.47174071168514986"
      ]
     },
     "execution_count": 9,
     "metadata": {},
     "output_type": "execute_result"
    }
   ],
   "source": [
    "model_1.threshold_"
   ]
  },
  {
   "cell_type": "code",
   "execution_count": 10,
   "metadata": {},
   "outputs": [
    {
     "data": {
      "text/plain": [
       "array([False,  True, False, False,  True,  True,  True,  True, False,\n",
       "        True, False,  True,  True,  True, False, False, False,  True,\n",
       "       False,  True,  True, False, False,  True, False,  True,  True,\n",
       "        True,  True,  True, False, False, False,  True, False, False,\n",
       "       False, False, False, False, False,  True, False,  True, False,\n",
       "        True,  True, False, False, False, False,  True, False, False,\n",
       "       False, False, False])"
      ]
     },
     "execution_count": 10,
     "metadata": {},
     "output_type": "execute_result"
    }
   ],
   "source": [
    "features_index = model_1.get_support()\n",
    "features_index"
   ]
  },
  {
   "cell_type": "code",
   "execution_count": 11,
   "metadata": {},
   "outputs": [
    {
     "name": "stdout",
     "output_type": "stream",
     "text": [
      "Index(['PREVAILING_WAGE_YEARLY', 'FULL_TIME_POSITION_Y', 'H-1B_DEPENDENT_Y',\n",
      "       'WILLFUL_VIOLATOR_Y', 'SECONDARY_ENTITY_Y', 'SOC_CODE_MAIN_CATEGORY_15',\n",
      "       'SOC_CODE_MAIN_CATEGORY_19', 'SOC_CODE_MAIN_CATEGORY_21',\n",
      "       'SOC_CODE_MAIN_CATEGORY_23', 'SOC_CODE_MAIN_CATEGORY_31',\n",
      "       'SOC_CODE_MAIN_CATEGORY_35', 'SOC_CODE_MAIN_CATEGORY_37',\n",
      "       'SOC_CODE_MAIN_CATEGORY_43', 'SOC_CODE_MAIN_CATEGORY_47',\n",
      "       'SOC_CODE_MAIN_CATEGORY_49', 'SOC_CODE_MAIN_CATEGORY_51',\n",
      "       'SOC_CODE_MAIN_CATEGORY_53', 'NAICS_CODE_MAIN_CATEGORY_11',\n",
      "       'NAICS_CODE_MAIN_CATEGORY_23', 'NAICS_CODE_MAIN_CATEGORY_45',\n",
      "       'NAICS_CODE_MAIN_CATEGORY_49', 'NAICS_CODE_MAIN_CATEGORY_51',\n",
      "       'NAICS_CODE_MAIN_CATEGORY_52', 'NAICS_CODE_MAIN_CATEGORY_61'],\n",
      "      dtype='object')\n"
     ]
    }
   ],
   "source": [
    "#Getting the column names of the columns selected\n",
    "X_new = X.loc[:, features_index]                      \n",
    "featured_col_names = X_new.columns\n",
    "print(featured_col_names)"
   ]
  },
  {
   "cell_type": "code",
   "execution_count": 12,
   "metadata": {},
   "outputs": [
    {
     "data": {
      "text/plain": [
       "(508332, 24)"
      ]
     },
     "execution_count": 12,
     "metadata": {},
     "output_type": "execute_result"
    }
   ],
   "source": [
    "X_m1 = model_1.transform(X) \n",
    "X_m1.shape"
   ]
  },
  {
   "cell_type": "markdown",
   "metadata": {},
   "source": [
    "### Feature Selection Using SelectFromModel and LinearSVC: 57 TO 17 FEATURES "
   ]
  },
  {
   "cell_type": "code",
   "execution_count": 13,
   "metadata": {},
   "outputs": [
    {
     "name": "stderr",
     "output_type": "stream",
     "text": [
      "C:\\Users\\mehtaa4\\Anaconda3\\lib\\site-packages\\sklearn\\svm\\_base.py:977: ConvergenceWarning: Liblinear failed to converge, increase the number of iterations.\n",
      "  \"the number of iterations.\", ConvergenceWarning)\n"
     ]
    },
    {
     "data": {
      "text/plain": [
       "array([ True,  True,  True,  True,  True,  True, False,  True, False,\n",
       "        True,  True, False, False,  True, False, False, False, False,\n",
       "       False, False, False, False, False, False, False, False, False,\n",
       "       False, False, False, False, False, False, False, False, False,\n",
       "        True,  True, False, False, False,  True, False, False, False,\n",
       "        True,  True, False,  True, False, False,  True, False, False,\n",
       "       False, False, False])"
      ]
     },
     "execution_count": 13,
     "metadata": {},
     "output_type": "execute_result"
    }
   ],
   "source": [
    "from sklearn.svm import LinearSVC\n",
    "from sklearn.linear_model import LogisticRegression\n",
    "\n",
    "lsvc = LinearSVC(C = 0.02, penalty = 'l1', dual = False, max_iter=20000).fit(X,y) #dual = False because n_samples > n_features\n",
    "model_2 = SelectFromModel(lsvc, prefit = True)\n",
    "\n",
    "model_2.get_support()"
   ]
  },
  {
   "cell_type": "code",
   "execution_count": 14,
   "metadata": {},
   "outputs": [
    {
     "data": {
      "text/plain": [
       "(508332, 17)"
      ]
     },
     "execution_count": 14,
     "metadata": {},
     "output_type": "execute_result"
    }
   ],
   "source": [
    "X_m2 = model_2.transform(X) \n",
    "X_m2.shape"
   ]
  },
  {
   "cell_type": "markdown",
   "metadata": {},
   "source": [
    "### Feature Selection Using SelectKBest and mutual_info_classif: 57 TO 24 FEATURES "
   ]
  },
  {
   "cell_type": "code",
   "execution_count": 15,
   "metadata": {},
   "outputs": [
    {
     "name": "stdout",
     "output_type": "stream",
     "text": [
      "[9.84397740e-05 2.12960846e-03 2.46008854e-03 6.03668053e-02\n",
      " 1.19522218e-01 1.93343020e-02 8.22223252e-05 2.19308445e-02\n",
      " 7.40374364e-04 6.46452217e-02 6.77776089e-04 2.40304637e-04\n",
      " 4.93840367e-05 0.00000000e+00 0.00000000e+00 0.00000000e+00\n",
      " 8.23922013e-05 0.00000000e+00 2.15267245e-04 0.00000000e+00\n",
      " 1.31708816e-05 0.00000000e+00 8.01185461e-05 4.08650159e-05\n",
      " 0.00000000e+00 1.62511381e-05 1.78913160e-04 1.99560235e-04\n",
      " 1.87284411e-04 9.41282535e-05 0.00000000e+00 0.00000000e+00\n",
      " 3.95845705e-05 0.00000000e+00 0.00000000e+00 1.54980406e-05\n",
      " 0.00000000e+00 1.96624988e-04 1.04369875e-05 0.00000000e+00\n",
      " 1.04973254e-04 2.65279839e-05 0.00000000e+00 1.91293518e-05\n",
      " 0.00000000e+00 2.67115689e-04 4.29773768e-04 1.28156674e-04\n",
      " 5.50544294e-02 3.48625458e-05 0.00000000e+00 1.47877015e-04\n",
      " 4.83311295e-05 0.00000000e+00 0.00000000e+00 9.32312305e-05\n",
      " 5.59877871e-05]\n"
     ]
    }
   ],
   "source": [
    "from sklearn.feature_selection import mutual_info_classif\n",
    "from sklearn.feature_selection import SelectKBest\n",
    "\n",
    "model_3 = SelectKBest(score_func=mutual_info_classif,k=24)\n",
    "\n",
    "results_3 = model_3.fit(X,y)\n",
    "\n",
    "print(results_3.scores_)"
   ]
  },
  {
   "cell_type": "code",
   "execution_count": 16,
   "metadata": {},
   "outputs": [
    {
     "data": {
      "text/plain": [
       "(508332, 24)"
      ]
     },
     "execution_count": 16,
     "metadata": {},
     "output_type": "execute_result"
    }
   ],
   "source": [
    "X_m3 = model_3.transform(X) \n",
    "X_m3.shape"
   ]
  },
  {
   "cell_type": "markdown",
   "metadata": {},
   "source": [
    "### Feature Selection Using VarianceThreshold: 57 TO 6 FEATURES"
   ]
  },
  {
   "cell_type": "code",
   "execution_count": 17,
   "metadata": {},
   "outputs": [
    {
     "data": {
      "text/plain": [
       "array([[0.        , 1.        , 0.        , 0.        , 0.        ,\n",
       "        0.        ],\n",
       "       [0.        , 1.        , 0.        , 0.        , 0.        ,\n",
       "        0.        ],\n",
       "       [0.        , 1.        , 0.        , 0.        , 0.        ,\n",
       "        1.        ],\n",
       "       ...,\n",
       "       [0.        , 1.        , 0.        , 0.        , 0.        ,\n",
       "        1.        ],\n",
       "       [1.79175947, 0.        , 0.        , 0.        , 0.        ,\n",
       "        0.        ],\n",
       "       [1.79175947, 0.        , 0.        , 0.        , 0.        ,\n",
       "        0.        ]])"
      ]
     },
     "execution_count": 17,
     "metadata": {},
     "output_type": "execute_result"
    }
   ],
   "source": [
    "from sklearn.feature_selection import VarianceThreshold\n",
    "model_4 = VarianceThreshold(threshold=(.8 * (1 - .8)))\n",
    "model_4.fit_transform(X)"
   ]
  },
  {
   "cell_type": "code",
   "execution_count": 18,
   "metadata": {},
   "outputs": [
    {
     "data": {
      "text/plain": [
       "array([ True, False, False,  True, False,  True, False,  True, False,\n",
       "        True, False, False, False, False, False, False, False, False,\n",
       "       False, False, False, False, False, False, False, False, False,\n",
       "       False, False, False, False, False, False, False, False, False,\n",
       "       False, False, False, False, False, False, False, False, False,\n",
       "       False, False, False,  True, False, False, False, False, False,\n",
       "       False, False, False])"
      ]
     },
     "execution_count": 18,
     "metadata": {},
     "output_type": "execute_result"
    }
   ],
   "source": [
    "model_4.get_support()"
   ]
  },
  {
   "cell_type": "code",
   "execution_count": 19,
   "metadata": {},
   "outputs": [
    {
     "data": {
      "text/plain": [
       "(508332, 6)"
      ]
     },
     "execution_count": 19,
     "metadata": {},
     "output_type": "execute_result"
    }
   ],
   "source": [
    "X_m4 = model_4.transform(X) \n",
    "X_m4.shape"
   ]
  },
  {
   "cell_type": "markdown",
   "metadata": {},
   "source": [
    "### Feature Selection using GLM OLS: 57 TO 26 FEATURES"
   ]
  },
  {
   "cell_type": "code",
   "execution_count": 62,
   "metadata": {},
   "outputs": [
    {
     "name": "stdout",
     "output_type": "stream",
     "text": [
      "                            Results: Generalized linear model\n",
      "==========================================================================================\n",
      "Model:                      GLM                       AIC:                   33182.4745   \n",
      "Link Function:              logit                     BIC:                   -6645100.8689\n",
      "Dependent Variable:         CASE_STATUS_DENIED        Log-Likelihood:        -16534.      \n",
      "Date:                       2020-08-05 01:01          LL-Null:               -17408.      \n",
      "No. Observations:           508332                    Deviance:              33068.       \n",
      "Df Model:                   56                        Pearson chi2:          5.12e+05     \n",
      "Df Residuals:               508275                    Scale:                 1.0000       \n",
      "Method:                     IRLS                                                          \n",
      "------------------------------------------------------------------------------------------\n",
      "                               Coef.    Std.Err.     z     P>|z|     [0.025       0.975]  \n",
      "------------------------------------------------------------------------------------------\n",
      "TOTAL_WORKER_POSITIONS          0.2106     0.0318   6.6183 0.0000       0.1482      0.2730\n",
      "PREVAILING_WAGE_YEARLY         -0.4520     0.0941  -4.8018 0.0000      -0.6365     -0.2675\n",
      "MEAN_WAGE_RATE_YEARLY           0.2803     0.0708   3.9568 0.0001       0.1415      0.4192\n",
      "AGENT_REPRESENTING_EMPLOYER_Y  -0.4600     0.0516  -8.9219 0.0000      -0.5611     -0.3590\n",
      "FULL_TIME_POSITION_Y           -0.9236     0.0760 -12.1456 0.0000      -1.0727     -0.7746\n",
      "H-1B_DEPENDENT_Y               -0.7237     0.0663 -10.9161 0.0000      -0.8537     -0.5938\n",
      "WILLFUL_VIOLATOR_Y              1.7453     0.5921   2.9477 0.0032       0.5848      2.9057\n",
      "SECONDARY_ENTITY_Y             -0.6419     0.0614 -10.4487 0.0000      -0.7623     -0.5215\n",
      "SOC_CODE_MAIN_CATEGORY_13       0.0426     0.1028   0.4145 0.6785      -0.1589      0.2441\n",
      "SOC_CODE_MAIN_CATEGORY_15      -0.4690     0.0925  -5.0722 0.0000      -0.6502     -0.2877\n",
      "SOC_CODE_MAIN_CATEGORY_17      -0.3345     0.1100  -3.0410 0.0024      -0.5501     -0.1189\n",
      "SOC_CODE_MAIN_CATEGORY_19      -0.7394     0.1454  -5.0848 0.0000      -1.0244     -0.4544\n",
      "SOC_CODE_MAIN_CATEGORY_21       0.6445     0.2459   2.6208 0.0088       0.1625      1.1265\n",
      "SOC_CODE_MAIN_CATEGORY_23       0.9897     0.1542   6.4189 0.0000       0.6875      1.2919\n",
      "SOC_CODE_MAIN_CATEGORY_25       0.0188     0.1800   0.1045 0.9168      -0.3341      0.3717\n",
      "SOC_CODE_MAIN_CATEGORY_27       0.3440     0.1417   2.4272 0.0152       0.0662      0.6217\n",
      "SOC_CODE_MAIN_CATEGORY_29       0.1353     0.1523   0.8886 0.3742      -0.1631      0.4338\n",
      "SOC_CODE_MAIN_CATEGORY_31       1.7321     1.0553   1.6414 0.1007      -0.3362      3.8004\n",
      "SOC_CODE_MAIN_CATEGORY_33     -19.2164 26217.7115  -0.0007 0.9994  -51404.9868  51366.5539\n",
      "SOC_CODE_MAIN_CATEGORY_35       2.8091     0.4184   6.7133 0.0000       1.9890      3.6292\n",
      "SOC_CODE_MAIN_CATEGORY_37       2.8044     1.2446   2.2532 0.0242       0.3650      5.2437\n",
      "SOC_CODE_MAIN_CATEGORY_39       0.8626     0.7478   1.1535 0.2487      -0.6031      2.3283\n",
      "SOC_CODE_MAIN_CATEGORY_41      -0.1983     0.2523  -0.7862 0.4317      -0.6927      0.2961\n",
      "SOC_CODE_MAIN_CATEGORY_43       1.0612     0.3432   3.0923 0.0020       0.3886      1.7338\n",
      "SOC_CODE_MAIN_CATEGORY_45     -20.2096 35218.5119  -0.0006 0.9995  -69047.2245  69006.8053\n",
      "SOC_CODE_MAIN_CATEGORY_47       1.4632     0.7599   1.9256 0.0542      -0.0261      2.9525\n",
      "SOC_CODE_MAIN_CATEGORY_49       2.7778     0.5294   5.2466 0.0000       1.7401      3.8155\n",
      "SOC_CODE_MAIN_CATEGORY_51       1.5845     0.7473   2.1204 0.0340       0.1199      3.0491\n",
      "SOC_CODE_MAIN_CATEGORY_53       1.4864     0.7478   1.9879 0.0468       0.0209      2.9520\n",
      "NAICS_CODE_MAIN_CATEGORY_11    -0.0622     0.8225  -0.0757 0.9397      -1.6744      1.5499\n",
      "NAICS_CODE_MAIN_CATEGORY_12   -19.9789 79461.7781  -0.0003 0.9998 -155762.2022 155722.2444\n",
      "NAICS_CODE_MAIN_CATEGORY_21    -1.3227     0.8465  -1.5625 0.1182      -2.9818      0.3365\n",
      "NAICS_CODE_MAIN_CATEGORY_22    -1.1549     0.8138  -1.4193 0.1558      -2.7499      0.4400\n",
      "NAICS_CODE_MAIN_CATEGORY_23    -0.7040     0.7491  -0.9398 0.3473      -2.1722      0.7642\n",
      "NAICS_CODE_MAIN_CATEGORY_26   -19.6743 55882.7946  -0.0004 0.9997 -109547.9391 109508.5904\n",
      "NAICS_CODE_MAIN_CATEGORY_31    -1.0455     0.7708  -1.3564 0.1750      -2.5562      0.4652\n",
      "NAICS_CODE_MAIN_CATEGORY_32    -1.1805     0.7608  -1.5518 0.1207      -2.6716      0.3105\n",
      "NAICS_CODE_MAIN_CATEGORY_33    -1.6222     0.7579  -2.1405 0.0323      -3.1075     -0.1368\n",
      "NAICS_CODE_MAIN_CATEGORY_35   -20.3490 79462.0139  -0.0003 0.9998 -155763.0343 155722.3364\n",
      "NAICS_CODE_MAIN_CATEGORY_42    -0.8926     0.7503  -1.1896 0.2342      -2.3631      0.5780\n",
      "NAICS_CODE_MAIN_CATEGORY_44    -1.0841     0.7598  -1.4267 0.1537      -2.5733      0.4052\n",
      "NAICS_CODE_MAIN_CATEGORY_45    -1.8682     0.7636  -2.4466 0.0144      -3.3649     -0.3716\n",
      "NAICS_CODE_MAIN_CATEGORY_48    -1.3203     0.7821  -1.6882 0.0914      -2.8531      0.2126\n",
      "NAICS_CODE_MAIN_CATEGORY_49    -2.7970     1.2448  -2.2470 0.0246      -5.2367     -0.3573\n",
      "NAICS_CODE_MAIN_CATEGORY_50   -21.2674 79461.8878  -0.0003 0.9998 -155763.7056 155721.1708\n",
      "NAICS_CODE_MAIN_CATEGORY_51    -1.6876     0.7617  -2.2155 0.0267      -3.1806     -0.1947\n",
      "NAICS_CODE_MAIN_CATEGORY_52    -1.9461     0.7606  -2.5587 0.0105      -3.4369     -0.4554\n",
      "NAICS_CODE_MAIN_CATEGORY_53    -0.9540     0.7656  -1.2461 0.2127      -2.4546      0.5466\n",
      "NAICS_CODE_MAIN_CATEGORY_54    -1.3448     0.7500  -1.7931 0.0730      -2.8147      0.1251\n",
      "NAICS_CODE_MAIN_CATEGORY_55    -1.3341     0.7956  -1.6768 0.0936      -2.8934      0.2253\n",
      "NAICS_CODE_MAIN_CATEGORY_56    -0.8831     0.7547  -1.1702 0.2419      -2.3623      0.5960\n",
      "NAICS_CODE_MAIN_CATEGORY_61    -1.9186     0.7439  -2.5792 0.0099      -3.3766     -0.4607\n",
      "NAICS_CODE_MAIN_CATEGORY_62    -1.1654     0.7537  -1.5462 0.1221      -2.6427      0.3119\n",
      "NAICS_CODE_MAIN_CATEGORY_71    -0.8072     0.7798  -1.0351 0.3006      -2.3355      0.7212\n",
      "NAICS_CODE_MAIN_CATEGORY_72    -0.9508     0.7691  -1.2362 0.2164      -2.4583      0.5566\n",
      "NAICS_CODE_MAIN_CATEGORY_81    -1.0158     0.7711  -1.3173 0.1877      -2.5271      0.4955\n",
      "NAICS_CODE_MAIN_CATEGORY_92    -0.8125     0.8018  -1.0134 0.3109      -2.3840      0.7589\n",
      "==========================================================================================\n",
      "\n"
     ]
    }
   ],
   "source": [
    "import statsmodels.api as sm\n",
    "\n",
    "X = df_3.drop(['CASE_STATUS_DENIED'], axis = 1)\n",
    "y = df_3['CASE_STATUS_DENIED']\n",
    "\n",
    "log_ols = sm.GLM(y, X, family = sm.families.Binomial())\n",
    "result_ols = log_ols.fit(fit_intercept = True)\n",
    "print(result_ols.summary2())"
   ]
  },
  {
   "cell_type": "code",
   "execution_count": 21,
   "metadata": {},
   "outputs": [
    {
     "data": {
      "text/plain": [
       "(508332, 26)"
      ]
     },
     "execution_count": 21,
     "metadata": {},
     "output_type": "execute_result"
    }
   ],
   "source": [
    "ols_features = [\n",
    "'TOTAL_WORKER_POSITIONS',\n",
    "'PREVAILING_WAGE_YEARLY',\n",
    "'MEAN_WAGE_RATE_YEARLY',\n",
    "'AGENT_REPRESENTING_EMPLOYER_Y',\n",
    "'FULL_TIME_POSITION_Y',\n",
    "'H-1B_DEPENDENT_Y',\n",
    "'WILLFUL_VIOLATOR_Y',\n",
    "'SECONDARY_ENTITY_Y',\n",
    "'SOC_CODE_MAIN_CATEGORY_15',\n",
    "'SOC_CODE_MAIN_CATEGORY_17',\n",
    "'SOC_CODE_MAIN_CATEGORY_19',\n",
    "'SOC_CODE_MAIN_CATEGORY_21',\n",
    "'SOC_CODE_MAIN_CATEGORY_23',\n",
    "'SOC_CODE_MAIN_CATEGORY_27',\n",
    "'SOC_CODE_MAIN_CATEGORY_35',\n",
    "'SOC_CODE_MAIN_CATEGORY_37',\n",
    "'SOC_CODE_MAIN_CATEGORY_43',\n",
    "'SOC_CODE_MAIN_CATEGORY_49',\n",
    "'SOC_CODE_MAIN_CATEGORY_51',\n",
    "'SOC_CODE_MAIN_CATEGORY_53',\n",
    "'NAICS_CODE_MAIN_CATEGORY_33',\n",
    "'NAICS_CODE_MAIN_CATEGORY_45',\n",
    "'NAICS_CODE_MAIN_CATEGORY_49',\n",
    "'NAICS_CODE_MAIN_CATEGORY_51',\n",
    "'NAICS_CODE_MAIN_CATEGORY_52',\n",
    "'NAICS_CODE_MAIN_CATEGORY_61',\n",
    "]\n",
    "\n",
    "\n",
    "X_m5 = df_3[ols_features]\n",
    "X_m5.shape"
   ]
  },
  {
   "cell_type": "markdown",
   "metadata": {},
   "source": [
    "### Imbalanced Dataset: OVERSAMPLING"
   ]
  },
  {
   "cell_type": "code",
   "execution_count": 22,
   "metadata": {},
   "outputs": [
    {
     "name": "stdout",
     "output_type": "stream",
     "text": [
      "(505522, 58) (2810, 58)\n"
     ]
    }
   ],
   "source": [
    "certified = df_3[df_3['CASE_STATUS_DENIED'] == 0]\n",
    "denied = df_3[df_3['CASE_STATUS_DENIED'] == 1]\n",
    "print(certified.shape, denied.shape)"
   ]
  },
  {
   "cell_type": "code",
   "execution_count": 23,
   "metadata": {},
   "outputs": [
    {
     "data": {
      "image/png": "[encoded data removed]",
      "text/plain": [
       "<Figure size 648x432 with 1 Axes>"
      ]
     },
     "metadata": {
      "needs_background": "light"
     },
     "output_type": "display_data"
    }
   ],
   "source": [
    "import matplotlib.pyplot as plt\n",
    "%matplotlib inline\n",
    "\n",
    "df_3['CASE_STATUS_DENIED'].value_counts().plot(kind = 'bar', figsize=(9,6),\n",
    "                                        color=\"coral\", fontsize=13)\n",
    "plt.xlabel(\"CASE_STATUS_DENIED\", fontsize=13)\n",
    "plt.ylabel(\"NO. OF CASES\" , fontsize=13)\n",
    "# plt.xticks(range(2))\n",
    "plt.title(\"Denied vs Certified\")\n",
    "plt.show()"
   ]
  },
  {
   "cell_type": "code",
   "execution_count": 24,
   "metadata": {},
   "outputs": [],
   "source": [
    "# RUN IN ANACONDA PROMPT: conda install -c conda-forge imbalanced-learn "
   ]
  },
  {
   "cell_type": "markdown",
   "metadata": {},
   "source": [
    "### Logistic Regression using Complete Test and Train data"
   ]
  },
  {
   "cell_type": "code",
   "execution_count": 25,
   "metadata": {},
   "outputs": [
    {
     "data": {
      "text/plain": [
       "(152500, 57)"
      ]
     },
     "execution_count": 25,
     "metadata": {},
     "output_type": "execute_result"
    }
   ],
   "source": [
    "from sklearn.model_selection import train_test_split\n",
    "\n",
    "X_train, X_test, y_train, y_test = train_test_split(X, y , test_size = 0.3, random_state = 0)\n",
    "X_train.shape\n",
    "X_test.shape"
   ]
  },
  {
   "cell_type": "code",
   "execution_count": 26,
   "metadata": {},
   "outputs": [
    {
     "name": "stderr",
     "output_type": "stream",
     "text": [
      "C:\\Users\\mehtaa4\\Anaconda3\\lib\\site-packages\\imblearn\\utils\\_validation.py:638: FutureWarning: Pass sampling_strategy=0.75 as keyword args. From version 0.9 passing these as positional arguments will result in an error\n",
      "  FutureWarning)\n"
     ]
    },
    {
     "name": "stdout",
     "output_type": "stream",
     "text": [
      "Data shape before oversampling Counter({0: 353924, 1: 1908})\n",
      "Data shape after oversampling Counter({0: 353924, 1: 265443})\n"
     ]
    }
   ],
   "source": [
    "from imblearn.over_sampling import RandomOverSampler\n",
    "from collections import Counter\n",
    "\n",
    "os = RandomOverSampler(0.75)\n",
    "X_train_nm,y_train_nm = os.fit_sample(X_train,y_train)\n",
    "\n",
    "print(\"Data shape before oversampling {}\".format(Counter(y_train)))\n",
    "print(\"Data shape after oversampling {}\".format(Counter(y_train_nm)))"
   ]
  },
  {
   "cell_type": "code",
   "execution_count": 27,
   "metadata": {},
   "outputs": [
    {
     "name": "stdout",
     "output_type": "stream",
     "text": [
      "Accuracy:  0.7896524590163935\n"
     ]
    }
   ],
   "source": [
    "logreg = LogisticRegression(max_iter=5000)\n",
    "logreg.fit(X_train_nm, y_train_nm)\n",
    "y_pred = logreg.predict(X_test)\n",
    "print(\"Accuracy: \", logreg.score(X_test, y_test))"
   ]
  },
  {
   "cell_type": "markdown",
   "metadata": {},
   "source": [
    "### Logistic Regression using feature selection from SelectFromModel and LogisticRegression "
   ]
  },
  {
   "cell_type": "code",
   "execution_count": 73,
   "metadata": {},
   "outputs": [
    {
     "name": "stderr",
     "output_type": "stream",
     "text": [
      "C:\\Users\\mehtaa4\\Anaconda3\\lib\\site-packages\\imblearn\\utils\\_validation.py:638: FutureWarning: Pass sampling_strategy=0.75 as keyword args. From version 0.9 passing these as positional arguments will result in an error\n",
      "  FutureWarning)\n"
     ]
    },
    {
     "name": "stdout",
     "output_type": "stream",
     "text": [
      "Data shape before oversampling Counter({0: 353924, 1: 1908})\n",
      "Data shape after oversampling Counter({0: 353924, 1: 265443})\n",
      "Accuracy for SelectFromModel with LogisticRegression:  0.8107278688524591\n"
     ]
    }
   ],
   "source": [
    "X_train1, X_test1, y_train1, y_test1 = train_test_split(X_m1, y, test_size=0.3, random_state=0)\n",
    "\n",
    "os_1 = RandomOverSampler(0.75)\n",
    "X_train1_nm,y_train1_nm = os_1.fit_sample(X_train1,y_train1)\n",
    "\n",
    "print(\"Data shape before oversampling {}\".format(Counter(y_train1)))\n",
    "print(\"Data shape after oversampling {}\".format(Counter(y_train1_nm)))\n",
    "\n",
    "logreg_m1 = LogisticRegression(max_iter=5000)\n",
    "logreg_m1.fit(X_train1_nm, y_train1_nm)\n",
    "y_pred_1 = logreg_m1.predict(X_test1)\n",
    "print(\"Accuracy for SelectFromModel with LogisticRegression: \", logreg_m1.score(X_test1, y_test1))"
   ]
  },
  {
   "cell_type": "markdown",
   "metadata": {},
   "source": [
    "### Logistic Regression using feature selection from SelectFromModel and LinearSVC"
   ]
  },
  {
   "cell_type": "code",
   "execution_count": 29,
   "metadata": {},
   "outputs": [
    {
     "name": "stderr",
     "output_type": "stream",
     "text": [
      "C:\\Users\\mehtaa4\\Anaconda3\\lib\\site-packages\\imblearn\\utils\\_validation.py:638: FutureWarning: Pass sampling_strategy=0.75 as keyword args. From version 0.9 passing these as positional arguments will result in an error\n",
      "  FutureWarning)\n"
     ]
    },
    {
     "name": "stdout",
     "output_type": "stream",
     "text": [
      "Data shape before oversampling Counter({0: 353924, 1: 1908})\n",
      "Data shape after oversampling Counter({0: 353924, 1: 265443})\n",
      "Accuracy:  0.7673770491803279\n"
     ]
    }
   ],
   "source": [
    "X_train2, X_test2, y_train2, y_test2 = train_test_split(X_m2, y, test_size=0.3, random_state=0)\n",
    "\n",
    "os_2 = RandomOverSampler(0.75)\n",
    "X_train2_nm,y_train2_nm = os_2.fit_sample(X_train2,y_train2)\n",
    "print(\"Data shape before oversampling {}\".format(Counter(y_train2)))\n",
    "print(\"Data shape after oversampling {}\".format(Counter(y_train2_nm)))\n",
    "\n",
    "logreg_m2 = LogisticRegression(max_iter=5000)\n",
    "logreg_m2.fit(X_train2_nm, y_train2_nm)\n",
    "y_pred_2 = logreg_m2.predict(X_test2)\n",
    "print(\"Accuracy: \", logreg_m2.score(X_test2, y_test2))"
   ]
  },
  {
   "cell_type": "markdown",
   "metadata": {},
   "source": [
    "### Logistic Regression using feature selection from SelectKBest and mutual_info_classif"
   ]
  },
  {
   "cell_type": "code",
   "execution_count": 30,
   "metadata": {},
   "outputs": [
    {
     "name": "stderr",
     "output_type": "stream",
     "text": [
      "C:\\Users\\mehtaa4\\Anaconda3\\lib\\site-packages\\imblearn\\utils\\_validation.py:638: FutureWarning: Pass sampling_strategy=0.75 as keyword args. From version 0.9 passing these as positional arguments will result in an error\n",
      "  FutureWarning)\n"
     ]
    },
    {
     "name": "stdout",
     "output_type": "stream",
     "text": [
      "Data shape before oversampling Counter({0: 353924, 1: 1908})\n",
      "Data shape after oversampling Counter({0: 353924, 1: 265443})\n",
      "Accuracy:  0.7945573770491803\n"
     ]
    }
   ],
   "source": [
    "X_train3, X_test3, y_train3, y_test3 = train_test_split(X_m3, y, test_size=0.3, random_state=0)\n",
    "\n",
    "os_3 = RandomOverSampler(0.75)\n",
    "X_train3_nm,y_train3_nm = os_3.fit_sample(X_train3,y_train3)\n",
    "print(\"Data shape before oversampling {}\".format(Counter(y_train3)))\n",
    "print(\"Data shape after oversampling {}\".format(Counter(y_train3_nm)))\n",
    "\n",
    "logreg_m3 = LogisticRegression(max_iter=5000)\n",
    "logreg_m3.fit(X_train3_nm, y_train3_nm)\n",
    "y_pred_3 = logreg_m3.predict(X_test3)\n",
    "print(\"Accuracy: \", logreg_m3.score(X_test3, y_test3))"
   ]
  },
  {
   "cell_type": "markdown",
   "metadata": {},
   "source": [
    "### Logistic Regression using feature selection from VarianceThreshold"
   ]
  },
  {
   "cell_type": "code",
   "execution_count": 31,
   "metadata": {},
   "outputs": [
    {
     "name": "stderr",
     "output_type": "stream",
     "text": [
      "C:\\Users\\mehtaa4\\Anaconda3\\lib\\site-packages\\imblearn\\utils\\_validation.py:638: FutureWarning: Pass sampling_strategy=0.75 as keyword args. From version 0.9 passing these as positional arguments will result in an error\n",
      "  FutureWarning)\n"
     ]
    },
    {
     "name": "stdout",
     "output_type": "stream",
     "text": [
      "Data shape before oversampling Counter({0: 353924, 1: 1908})\n",
      "Data shape after oversampling Counter({0: 353924, 1: 265443})\n",
      "Accuracy:  0.7252131147540983\n"
     ]
    }
   ],
   "source": [
    "X_train4, X_test4, y_train4, y_test4 = train_test_split(X_m4, y, test_size=0.3, random_state=0)\n",
    "\n",
    "os_4 = RandomOverSampler(0.75)\n",
    "X_train4_nm,y_train4_nm = os_4.fit_sample(X_train4,y_train4)\n",
    "print(\"Data shape before oversampling {}\".format(Counter(y_train4)))\n",
    "print(\"Data shape after oversampling {}\".format(Counter(y_train4_nm)))\n",
    "\n",
    "logreg_m4 = LogisticRegression(max_iter=5000)\n",
    "logreg_m4.fit(X_train4_nm, y_train4_nm)\n",
    "y_pred_4 = logreg_m4.predict(X_test4)\n",
    "print(\"Accuracy: \", logreg_m4.score(X_test4, y_test4))"
   ]
  },
  {
   "cell_type": "markdown",
   "metadata": {},
   "source": [
    "### Logistic Regression using feature selection from GLM OLS Manual Inspection"
   ]
  },
  {
   "cell_type": "code",
   "execution_count": 32,
   "metadata": {},
   "outputs": [
    {
     "name": "stderr",
     "output_type": "stream",
     "text": [
      "C:\\Users\\mehtaa4\\Anaconda3\\lib\\site-packages\\imblearn\\utils\\_validation.py:638: FutureWarning: Pass sampling_strategy=0.75 as keyword args. From version 0.9 passing these as positional arguments will result in an error\n",
      "  FutureWarning)\n"
     ]
    },
    {
     "name": "stdout",
     "output_type": "stream",
     "text": [
      "Data shape before oversampling Counter({0: 353924, 1: 1908})\n",
      "Data shape after oversampling Counter({0: 353924, 1: 265443})\n",
      "Accuracy for SelectFromModel with LogisticRegression:  0.8036131147540984\n"
     ]
    },
    {
     "data": {
      "text/plain": [
       "(152500, 26)"
      ]
     },
     "execution_count": 32,
     "metadata": {},
     "output_type": "execute_result"
    }
   ],
   "source": [
    "X_train5, X_test5, y_train5, y_test5 = train_test_split(X_m5, y, test_size=0.3, random_state=0)\n",
    "\n",
    "os_5 = RandomOverSampler(0.75)\n",
    "X_train5_nm,y_train5_nm = os_5.fit_sample(X_train5,y_train5)\n",
    "\n",
    "print(\"Data shape before oversampling {}\".format(Counter(y_train5)))\n",
    "print(\"Data shape after oversampling {}\".format(Counter(y_train5_nm)))\n",
    "\n",
    "logreg_m5 = LogisticRegression(max_iter=5000)\n",
    "logreg_m5.fit(X_train5_nm, y_train5_nm)\n",
    "y_pred_5 = logreg_m5.predict(X_test5)\n",
    "print(\"Accuracy for SelectFromModel with LogisticRegression: \", logreg_m5.score(X_test5, y_test5))\n",
    "X_test5.shape"
   ]
  },
  {
   "cell_type": "markdown",
   "metadata": {},
   "source": [
    "## Selecting logreg_m1(Logistic Regression model) which uses feature selection from SelectFromModel and LogisticRegression"
   ]
  },
  {
   "cell_type": "code",
   "execution_count": 45,
   "metadata": {},
   "outputs": [
    {
     "name": "stdout",
     "output_type": "stream",
     "text": [
      "                 Results: Generalized linear model\n",
      "====================================================================\n",
      "Model:              GLM                AIC:            33366.0247   \n",
      "Link Function:      logit              BIC:            -6645284.9020\n",
      "Dependent Variable: CASE_STATUS_DENIED Log-Likelihood: -16659.      \n",
      "Date:               2020-08-05 00:43   LL-Null:        -17408.      \n",
      "No. Observations:   508332             Deviance:       33318.       \n",
      "Df Model:           23                 Pearson chi2:   5.28e+05     \n",
      "Df Residuals:       508308             Scale:          1.0000       \n",
      "Method:             IRLS                                            \n",
      "-----------------------------------------------------------------------\n",
      "         Coef.     Std.Err.       z        P>|z|      [0.025     0.975]\n",
      "-----------------------------------------------------------------------\n",
      "x1      -0.3104      0.0062    -49.6889    0.0000    -0.3227    -0.2982\n",
      "x2      -1.0657      0.0730    -14.5990    0.0000    -1.2087    -0.9226\n",
      "x3      -0.6332      0.0628    -10.0820    0.0000    -0.7563    -0.5101\n",
      "x4       1.7618      0.5866      3.0033    0.0027     0.6120     2.9116\n",
      "x5      -0.5884      0.0605     -9.7313    0.0000    -0.7069    -0.4699\n",
      "x6      -0.3720      0.0451     -8.2456    0.0000    -0.4605    -0.2836\n",
      "x7      -0.5914      0.1104     -5.3547    0.0000    -0.8079    -0.3749\n",
      "x8       0.6610      0.2096      3.1543    0.0016     0.2503     1.0717\n",
      "x9       1.0891      0.1271      8.5657    0.0000     0.8399     1.3382\n",
      "x10      1.9509      1.0425      1.8713    0.0613    -0.0924     3.9942\n",
      "x11      3.2239      0.3459      9.3213    0.0000     2.5460     3.9018\n",
      "x12      3.4686      1.2252      2.8311    0.0046     1.0673     5.8700\n",
      "x13      1.1913      0.3251      3.6645    0.0002     0.5541     1.8284\n",
      "x14      1.7717      0.7503      2.3611    0.0182     0.3010     3.2423\n",
      "x15      3.1709      0.5099      6.2185    0.0000     2.1715     4.1703\n",
      "x16      1.7262      0.7372      2.3415    0.0192     0.2813     3.1711\n",
      "x17      1.5340      0.7318      2.0962    0.0361     0.0997     2.9683\n",
      "x18      1.0829      0.3870      2.7982    0.0051     0.3244     1.8415\n",
      "x19      0.4125      0.1369      3.0128    0.0026     0.1442     0.6809\n",
      "x20     -0.5730      0.1381     -4.1482    0.0000    -0.8437    -0.3023\n",
      "x21     -1.6476      1.0015     -1.6452    0.0999    -3.6106     0.3153\n",
      "x22     -0.2941      0.0871     -3.3758    0.0007    -0.4648    -0.1233\n",
      "x23     -0.6492      0.0938     -6.9202    0.0000    -0.8330    -0.4653\n",
      "x24     -0.4096      0.0902     -4.5399    0.0000    -0.5865    -0.2328\n",
      "====================================================================\n",
      "\n"
     ]
    }
   ],
   "source": [
    "logit_model = sm.GLM(y, X_m1, family = sm.families.Binomial())\n",
    "results = logit_model.fit(fit_intercept = True)\n",
    "\n",
    "print(results.summary2())"
   ]
  },
  {
   "cell_type": "code",
   "execution_count": 47,
   "metadata": {},
   "outputs": [
    {
     "data": {
      "text/html": [
       "<div>\n",
       "<style scoped>\n",
       "    .dataframe tbody tr th:only-of-type {\n",
       "        vertical-align: middle;\n",
       "    }\n",
       "\n",
       "    .dataframe tbody tr th {\n",
       "        vertical-align: top;\n",
       "    }\n",
       "\n",
       "    .dataframe thead th {\n",
       "        text-align: right;\n",
       "    }\n",
       "</style>\n",
       "<table border=\"1\" class=\"dataframe\">\n",
       "  <thead>\n",
       "    <tr style=\"text-align: right;\">\n",
       "      <th></th>\n",
       "      <th>Coefficient</th>\n",
       "      <th>p-value</th>\n",
       "    </tr>\n",
       "  </thead>\n",
       "  <tbody>\n",
       "    <tr>\n",
       "      <th>PREVAILING_WAGE_YEARLY</th>\n",
       "      <td>-0.310420</td>\n",
       "      <td>0.000000e+00</td>\n",
       "    </tr>\n",
       "    <tr>\n",
       "      <th>FULL_TIME_POSITION_Y</th>\n",
       "      <td>-1.065673</td>\n",
       "      <td>2.851543e-48</td>\n",
       "    </tr>\n",
       "    <tr>\n",
       "      <th>H-1B_DEPENDENT_Y</th>\n",
       "      <td>-0.633229</td>\n",
       "      <td>6.635522e-24</td>\n",
       "    </tr>\n",
       "    <tr>\n",
       "      <th>WILLFUL_VIOLATOR_Y</th>\n",
       "      <td>1.761833</td>\n",
       "      <td>2.670955e-03</td>\n",
       "    </tr>\n",
       "    <tr>\n",
       "      <th>SECONDARY_ENTITY_Y</th>\n",
       "      <td>-0.588384</td>\n",
       "      <td>2.216371e-22</td>\n",
       "    </tr>\n",
       "    <tr>\n",
       "      <th>SOC_CODE_MAIN_CATEGORY_15</th>\n",
       "      <td>-0.372036</td>\n",
       "      <td>1.643654e-16</td>\n",
       "    </tr>\n",
       "    <tr>\n",
       "      <th>SOC_CODE_MAIN_CATEGORY_19</th>\n",
       "      <td>-0.591390</td>\n",
       "      <td>8.571598e-08</td>\n",
       "    </tr>\n",
       "    <tr>\n",
       "      <th>SOC_CODE_MAIN_CATEGORY_21</th>\n",
       "      <td>0.661021</td>\n",
       "      <td>1.608639e-03</td>\n",
       "    </tr>\n",
       "    <tr>\n",
       "      <th>SOC_CODE_MAIN_CATEGORY_23</th>\n",
       "      <td>1.089055</td>\n",
       "      <td>1.074520e-17</td>\n",
       "    </tr>\n",
       "    <tr>\n",
       "      <th>SOC_CODE_MAIN_CATEGORY_31</th>\n",
       "      <td>1.950862</td>\n",
       "      <td>6.130390e-02</td>\n",
       "    </tr>\n",
       "    <tr>\n",
       "      <th>SOC_CODE_MAIN_CATEGORY_35</th>\n",
       "      <td>3.223926</td>\n",
       "      <td>1.148973e-20</td>\n",
       "    </tr>\n",
       "    <tr>\n",
       "      <th>SOC_CODE_MAIN_CATEGORY_37</th>\n",
       "      <td>3.468648</td>\n",
       "      <td>4.639241e-03</td>\n",
       "    </tr>\n",
       "    <tr>\n",
       "      <th>SOC_CODE_MAIN_CATEGORY_43</th>\n",
       "      <td>1.191283</td>\n",
       "      <td>2.478553e-04</td>\n",
       "    </tr>\n",
       "    <tr>\n",
       "      <th>SOC_CODE_MAIN_CATEGORY_47</th>\n",
       "      <td>1.771677</td>\n",
       "      <td>1.821840e-02</td>\n",
       "    </tr>\n",
       "    <tr>\n",
       "      <th>SOC_CODE_MAIN_CATEGORY_49</th>\n",
       "      <td>3.170892</td>\n",
       "      <td>5.020027e-10</td>\n",
       "    </tr>\n",
       "    <tr>\n",
       "      <th>SOC_CODE_MAIN_CATEGORY_51</th>\n",
       "      <td>1.726217</td>\n",
       "      <td>1.920593e-02</td>\n",
       "    </tr>\n",
       "    <tr>\n",
       "      <th>SOC_CODE_MAIN_CATEGORY_53</th>\n",
       "      <td>1.534002</td>\n",
       "      <td>3.606166e-02</td>\n",
       "    </tr>\n",
       "    <tr>\n",
       "      <th>NAICS_CODE_MAIN_CATEGORY_11</th>\n",
       "      <td>1.082939</td>\n",
       "      <td>5.139249e-03</td>\n",
       "    </tr>\n",
       "    <tr>\n",
       "      <th>NAICS_CODE_MAIN_CATEGORY_23</th>\n",
       "      <td>0.412531</td>\n",
       "      <td>2.588255e-03</td>\n",
       "    </tr>\n",
       "    <tr>\n",
       "      <th>NAICS_CODE_MAIN_CATEGORY_45</th>\n",
       "      <td>-0.572969</td>\n",
       "      <td>3.350582e-05</td>\n",
       "    </tr>\n",
       "    <tr>\n",
       "      <th>NAICS_CODE_MAIN_CATEGORY_49</th>\n",
       "      <td>-1.647639</td>\n",
       "      <td>9.993758e-02</td>\n",
       "    </tr>\n",
       "    <tr>\n",
       "      <th>NAICS_CODE_MAIN_CATEGORY_51</th>\n",
       "      <td>-0.294091</td>\n",
       "      <td>7.359838e-04</td>\n",
       "    </tr>\n",
       "    <tr>\n",
       "      <th>NAICS_CODE_MAIN_CATEGORY_52</th>\n",
       "      <td>-0.649157</td>\n",
       "      <td>4.511532e-12</td>\n",
       "    </tr>\n",
       "    <tr>\n",
       "      <th>NAICS_CODE_MAIN_CATEGORY_61</th>\n",
       "      <td>-0.409647</td>\n",
       "      <td>5.629418e-06</td>\n",
       "    </tr>\n",
       "  </tbody>\n",
       "</table>\n",
       "</div>"
      ],
      "text/plain": [
       "                             Coefficient       p-value\n",
       "PREVAILING_WAGE_YEARLY         -0.310420  0.000000e+00\n",
       "FULL_TIME_POSITION_Y           -1.065673  2.851543e-48\n",
       "H-1B_DEPENDENT_Y               -0.633229  6.635522e-24\n",
       "WILLFUL_VIOLATOR_Y              1.761833  2.670955e-03\n",
       "SECONDARY_ENTITY_Y             -0.588384  2.216371e-22\n",
       "SOC_CODE_MAIN_CATEGORY_15      -0.372036  1.643654e-16\n",
       "SOC_CODE_MAIN_CATEGORY_19      -0.591390  8.571598e-08\n",
       "SOC_CODE_MAIN_CATEGORY_21       0.661021  1.608639e-03\n",
       "SOC_CODE_MAIN_CATEGORY_23       1.089055  1.074520e-17\n",
       "SOC_CODE_MAIN_CATEGORY_31       1.950862  6.130390e-02\n",
       "SOC_CODE_MAIN_CATEGORY_35       3.223926  1.148973e-20\n",
       "SOC_CODE_MAIN_CATEGORY_37       3.468648  4.639241e-03\n",
       "SOC_CODE_MAIN_CATEGORY_43       1.191283  2.478553e-04\n",
       "SOC_CODE_MAIN_CATEGORY_47       1.771677  1.821840e-02\n",
       "SOC_CODE_MAIN_CATEGORY_49       3.170892  5.020027e-10\n",
       "SOC_CODE_MAIN_CATEGORY_51       1.726217  1.920593e-02\n",
       "SOC_CODE_MAIN_CATEGORY_53       1.534002  3.606166e-02\n",
       "NAICS_CODE_MAIN_CATEGORY_11     1.082939  5.139249e-03\n",
       "NAICS_CODE_MAIN_CATEGORY_23     0.412531  2.588255e-03\n",
       "NAICS_CODE_MAIN_CATEGORY_45    -0.572969  3.350582e-05\n",
       "NAICS_CODE_MAIN_CATEGORY_49    -1.647639  9.993758e-02\n",
       "NAICS_CODE_MAIN_CATEGORY_51    -0.294091  7.359838e-04\n",
       "NAICS_CODE_MAIN_CATEGORY_52    -0.649157  4.511532e-12\n",
       "NAICS_CODE_MAIN_CATEGORY_61    -0.409647  5.629418e-06"
      ]
     },
     "execution_count": 47,
     "metadata": {},
     "output_type": "execute_result"
    }
   ],
   "source": [
    "pd.DataFrame(zip(results.params,results.pvalues), columns = ['Coefficient', 'p-value'],index =  featured_col_names)"
   ]
  },
  {
   "cell_type": "markdown",
   "metadata": {},
   "source": [
    "### OBTAINING ODD RATIOS"
   ]
  },
  {
   "cell_type": "code",
   "execution_count": 48,
   "metadata": {},
   "outputs": [
    {
     "data": {
      "text/html": [
       "<div>\n",
       "<style scoped>\n",
       "    .dataframe tbody tr th:only-of-type {\n",
       "        vertical-align: middle;\n",
       "    }\n",
       "\n",
       "    .dataframe tbody tr th {\n",
       "        vertical-align: top;\n",
       "    }\n",
       "\n",
       "    .dataframe thead th {\n",
       "        text-align: right;\n",
       "    }\n",
       "</style>\n",
       "<table border=\"1\" class=\"dataframe\">\n",
       "  <thead>\n",
       "    <tr style=\"text-align: right;\">\n",
       "      <th></th>\n",
       "      <th>2.5%</th>\n",
       "      <th>97.5%</th>\n",
       "      <th>Odd Ratios</th>\n",
       "    </tr>\n",
       "  </thead>\n",
       "  <tbody>\n",
       "    <tr>\n",
       "      <th>PREVAILING_WAGE_YEARLY</th>\n",
       "      <td>0.724217</td>\n",
       "      <td>0.742171</td>\n",
       "      <td>0.733139</td>\n",
       "    </tr>\n",
       "    <tr>\n",
       "      <th>FULL_TIME_POSITION_Y</th>\n",
       "      <td>0.298572</td>\n",
       "      <td>0.397483</td>\n",
       "      <td>0.344496</td>\n",
       "    </tr>\n",
       "    <tr>\n",
       "      <th>H-1B_DEPENDENT_Y</th>\n",
       "      <td>0.469386</td>\n",
       "      <td>0.600419</td>\n",
       "      <td>0.530875</td>\n",
       "    </tr>\n",
       "    <tr>\n",
       "      <th>WILLFUL_VIOLATOR_Y</th>\n",
       "      <td>1.844196</td>\n",
       "      <td>18.386616</td>\n",
       "      <td>5.823102</td>\n",
       "    </tr>\n",
       "    <tr>\n",
       "      <th>SECONDARY_ENTITY_Y</th>\n",
       "      <td>0.493176</td>\n",
       "      <td>0.625078</td>\n",
       "      <td>0.555224</td>\n",
       "    </tr>\n",
       "    <tr>\n",
       "      <th>SOC_CODE_MAIN_CATEGORY_15</th>\n",
       "      <td>0.630988</td>\n",
       "      <td>0.753065</td>\n",
       "      <td>0.689330</td>\n",
       "    </tr>\n",
       "    <tr>\n",
       "      <th>SOC_CODE_MAIN_CATEGORY_19</th>\n",
       "      <td>0.445813</td>\n",
       "      <td>0.687342</td>\n",
       "      <td>0.553557</td>\n",
       "    </tr>\n",
       "    <tr>\n",
       "      <th>SOC_CODE_MAIN_CATEGORY_21</th>\n",
       "      <td>1.284400</td>\n",
       "      <td>2.920484</td>\n",
       "      <td>1.936768</td>\n",
       "    </tr>\n",
       "    <tr>\n",
       "      <th>SOC_CODE_MAIN_CATEGORY_23</th>\n",
       "      <td>2.316047</td>\n",
       "      <td>3.812363</td>\n",
       "      <td>2.971466</td>\n",
       "    </tr>\n",
       "    <tr>\n",
       "      <th>SOC_CODE_MAIN_CATEGORY_31</th>\n",
       "      <td>0.911707</td>\n",
       "      <td>54.280247</td>\n",
       "      <td>7.034748</td>\n",
       "    </tr>\n",
       "    <tr>\n",
       "      <th>SOC_CODE_MAIN_CATEGORY_35</th>\n",
       "      <td>12.756510</td>\n",
       "      <td>49.491957</td>\n",
       "      <td>25.126572</td>\n",
       "    </tr>\n",
       "    <tr>\n",
       "      <th>SOC_CODE_MAIN_CATEGORY_37</th>\n",
       "      <td>2.907480</td>\n",
       "      <td>354.252653</td>\n",
       "      <td>32.093339</td>\n",
       "    </tr>\n",
       "    <tr>\n",
       "      <th>SOC_CODE_MAIN_CATEGORY_43</th>\n",
       "      <td>1.740404</td>\n",
       "      <td>6.224224</td>\n",
       "      <td>3.291302</td>\n",
       "    </tr>\n",
       "    <tr>\n",
       "      <th>SOC_CODE_MAIN_CATEGORY_47</th>\n",
       "      <td>1.351246</td>\n",
       "      <td>25.593183</td>\n",
       "      <td>5.880705</td>\n",
       "    </tr>\n",
       "    <tr>\n",
       "      <th>SOC_CODE_MAIN_CATEGORY_49</th>\n",
       "      <td>8.771240</td>\n",
       "      <td>64.735303</td>\n",
       "      <td>23.828740</td>\n",
       "    </tr>\n",
       "    <tr>\n",
       "      <th>SOC_CODE_MAIN_CATEGORY_51</th>\n",
       "      <td>1.324831</td>\n",
       "      <td>23.834858</td>\n",
       "      <td>5.619355</td>\n",
       "    </tr>\n",
       "    <tr>\n",
       "      <th>SOC_CODE_MAIN_CATEGORY_53</th>\n",
       "      <td>1.104861</td>\n",
       "      <td>19.458503</td>\n",
       "      <td>4.636694</td>\n",
       "    </tr>\n",
       "    <tr>\n",
       "      <th>NAICS_CODE_MAIN_CATEGORY_11</th>\n",
       "      <td>1.383202</td>\n",
       "      <td>6.305846</td>\n",
       "      <td>2.953347</td>\n",
       "    </tr>\n",
       "    <tr>\n",
       "      <th>NAICS_CODE_MAIN_CATEGORY_23</th>\n",
       "      <td>1.155073</td>\n",
       "      <td>1.975652</td>\n",
       "      <td>1.510636</td>\n",
       "    </tr>\n",
       "    <tr>\n",
       "      <th>NAICS_CODE_MAIN_CATEGORY_45</th>\n",
       "      <td>0.430122</td>\n",
       "      <td>0.739152</td>\n",
       "      <td>0.563849</td>\n",
       "    </tr>\n",
       "    <tr>\n",
       "      <th>NAICS_CODE_MAIN_CATEGORY_49</th>\n",
       "      <td>0.027037</td>\n",
       "      <td>1.370647</td>\n",
       "      <td>0.192504</td>\n",
       "    </tr>\n",
       "    <tr>\n",
       "      <th>NAICS_CODE_MAIN_CATEGORY_51</th>\n",
       "      <td>0.628237</td>\n",
       "      <td>0.883959</td>\n",
       "      <td>0.745208</td>\n",
       "    </tr>\n",
       "    <tr>\n",
       "      <th>NAICS_CODE_MAIN_CATEGORY_52</th>\n",
       "      <td>0.434737</td>\n",
       "      <td>0.627947</td>\n",
       "      <td>0.522486</td>\n",
       "    </tr>\n",
       "    <tr>\n",
       "      <th>NAICS_CODE_MAIN_CATEGORY_61</th>\n",
       "      <td>0.556270</td>\n",
       "      <td>0.792318</td>\n",
       "      <td>0.663885</td>\n",
       "    </tr>\n",
       "  </tbody>\n",
       "</table>\n",
       "</div>"
      ],
      "text/plain": [
       "                                  2.5%       97.5%  Odd Ratios\n",
       "PREVAILING_WAGE_YEARLY        0.724217    0.742171    0.733139\n",
       "FULL_TIME_POSITION_Y          0.298572    0.397483    0.344496\n",
       "H-1B_DEPENDENT_Y              0.469386    0.600419    0.530875\n",
       "WILLFUL_VIOLATOR_Y            1.844196   18.386616    5.823102\n",
       "SECONDARY_ENTITY_Y            0.493176    0.625078    0.555224\n",
       "SOC_CODE_MAIN_CATEGORY_15     0.630988    0.753065    0.689330\n",
       "SOC_CODE_MAIN_CATEGORY_19     0.445813    0.687342    0.553557\n",
       "SOC_CODE_MAIN_CATEGORY_21     1.284400    2.920484    1.936768\n",
       "SOC_CODE_MAIN_CATEGORY_23     2.316047    3.812363    2.971466\n",
       "SOC_CODE_MAIN_CATEGORY_31     0.911707   54.280247    7.034748\n",
       "SOC_CODE_MAIN_CATEGORY_35    12.756510   49.491957   25.126572\n",
       "SOC_CODE_MAIN_CATEGORY_37     2.907480  354.252653   32.093339\n",
       "SOC_CODE_MAIN_CATEGORY_43     1.740404    6.224224    3.291302\n",
       "SOC_CODE_MAIN_CATEGORY_47     1.351246   25.593183    5.880705\n",
       "SOC_CODE_MAIN_CATEGORY_49     8.771240   64.735303   23.828740\n",
       "SOC_CODE_MAIN_CATEGORY_51     1.324831   23.834858    5.619355\n",
       "SOC_CODE_MAIN_CATEGORY_53     1.104861   19.458503    4.636694\n",
       "NAICS_CODE_MAIN_CATEGORY_11   1.383202    6.305846    2.953347\n",
       "NAICS_CODE_MAIN_CATEGORY_23   1.155073    1.975652    1.510636\n",
       "NAICS_CODE_MAIN_CATEGORY_45   0.430122    0.739152    0.563849\n",
       "NAICS_CODE_MAIN_CATEGORY_49   0.027037    1.370647    0.192504\n",
       "NAICS_CODE_MAIN_CATEGORY_51   0.628237    0.883959    0.745208\n",
       "NAICS_CODE_MAIN_CATEGORY_52   0.434737    0.627947    0.522486\n",
       "NAICS_CODE_MAIN_CATEGORY_61   0.556270    0.792318    0.663885"
      ]
     },
     "execution_count": 48,
     "metadata": {},
     "output_type": "execute_result"
    }
   ],
   "source": [
    "import numpy as np\n",
    "params = results.params\n",
    "conf = results.conf_int()\n",
    "conf['Odd Ratios'] = params\n",
    "conf.index = featured_col_names\n",
    "conf.columns = ['2.5%', '97.5%', 'Odd Ratios']\n",
    "(np.exp(conf))"
   ]
  },
  {
   "cell_type": "markdown",
   "metadata": {},
   "source": [
    "### CONFUSION MATRIX"
   ]
  },
  {
   "cell_type": "code",
   "execution_count": 49,
   "metadata": {},
   "outputs": [
    {
     "data": {
      "text/plain": [
       "array([[123511,  28087],\n",
       "       [   540,    362]], dtype=int64)"
      ]
     },
     "execution_count": 49,
     "metadata": {},
     "output_type": "execute_result"
    }
   ],
   "source": [
    "from sklearn.metrics import confusion_matrix\n",
    "\n",
    "conf_matrix = confusion_matrix(y_test1, y_pred_1)\n",
    "conf_matrix"
   ]
  },
  {
   "cell_type": "code",
   "execution_count": 50,
   "metadata": {},
   "outputs": [
    {
     "data": {
      "text/plain": [
       "<matplotlib.axes._subplots.AxesSubplot at 0x20c93db2f88>"
      ]
     },
     "execution_count": 50,
     "metadata": {},
     "output_type": "execute_result"
    },
    {
     "data": {
      "image/png": "[encoded data removed]",
      "text/plain": [
       "<Figure size 432x288 with 1 Axes>"
      ]
     },
     "metadata": {},
     "output_type": "display_data"
    }
   ],
   "source": [
    "import seaborn as sns\n",
    "import matplotlib.pyplot as plt\n",
    "\n",
    "data = conf_matrix\n",
    "df_cm = pd.DataFrame(conf_matrix, columns = np.unique(y_test1), index = np.unique(y_test1))\n",
    "df_cm.index.name = 'Actual'\n",
    "df_cm.columns.name = 'Predicted'\n",
    "sns.set(font_scale = 1.5)\n",
    "sns.heatmap(df_cm, annot=True, annot_kws={\"size\": 14}, cbar=False,\n",
    "          vmax=500, square=True, fmt=\"d\", cmap=plt.cm.Blues)"
   ]
  },
  {
   "cell_type": "markdown",
   "metadata": {},
   "source": [
    "### CLASSIFICATION REPORT"
   ]
  },
  {
   "cell_type": "code",
   "execution_count": 51,
   "metadata": {},
   "outputs": [
    {
     "name": "stdout",
     "output_type": "stream",
     "text": [
      "              precision    recall  f1-score   support\n",
      "\n",
      "           0       1.00      0.81      0.90    151598\n",
      "           1       0.01      0.40      0.02       902\n",
      "\n",
      "    accuracy                           0.81    152500\n",
      "   macro avg       0.50      0.61      0.46    152500\n",
      "weighted avg       0.99      0.81      0.89    152500\n",
      "\n"
     ]
    }
   ],
   "source": [
    "from sklearn.metrics import classification_report\n",
    "print(classification_report(y_test1, y_pred_1))"
   ]
  },
  {
   "cell_type": "markdown",
   "metadata": {},
   "source": [
    "### GENERATE ROC CURVE"
   ]
  },
  {
   "cell_type": "code",
   "execution_count": 52,
   "metadata": {},
   "outputs": [
    {
     "data": {
      "image/png": "[encoded data removed]",
      "text/plain": [
       "<Figure size 432x288 with 1 Axes>"
      ]
     },
     "metadata": {},
     "output_type": "display_data"
    }
   ],
   "source": [
    "from sklearn.metrics import roc_auc_score\n",
    "from sklearn.metrics import roc_curve\n",
    "\n",
    "logit_roc_auc = roc_auc_score(y_test1, logreg_m1.predict(X_test1))\n",
    "fpr, tpr, thresholds = roc_curve(y_test1, logreg_m1.predict_proba(X_test1)[:,1])\n",
    "plt.figure()\n",
    "plt.plot(fpr, tpr, label='Logistic Regression (area = %0.2f)' % logit_roc_auc)\n",
    "plt.plot([0, 1], [0, 1],'r--')\n",
    "plt.xlim([0.0, 1.0])\n",
    "plt.ylim([0.0, 1.05])\n",
    "plt.xlabel('False Positive Rate')\n",
    "plt.ylabel('True Positive Rate')\n",
    "plt.title('Receiver Operating Characteristic')\n",
    "plt.legend(loc=\"lower right\")\n",
    "plt.show()"
   ]
  },
  {
   "cell_type": "code",
   "execution_count": 53,
   "metadata": {},
   "outputs": [
    {
     "data": {
      "text/plain": [
       "(152500, 24)"
      ]
     },
     "execution_count": 53,
     "metadata": {},
     "output_type": "execute_result"
    }
   ],
   "source": [
    "X_test1.shape"
   ]
  },
  {
   "cell_type": "markdown",
   "metadata": {},
   "source": [
    "### PREDICTED_PROBABILITES"
   ]
  },
  {
   "cell_type": "code",
   "execution_count": 55,
   "metadata": {},
   "outputs": [
    {
     "name": "stdout",
     "output_type": "stream",
     "text": [
      "[[0.78886098 0.21113902]\n",
      " [0.67166085 0.32833915]\n",
      " [0.51631874 0.48368126]\n",
      " ...\n",
      " [0.51243565 0.48756435]\n",
      " [0.78904543 0.21095457]\n",
      " [0.79086005 0.20913995]]\n"
     ]
    }
   ],
   "source": [
    "pred_prob = logreg_m1.predict_proba(X_test1)\n",
    "print(pred_prob)"
   ]
  },
  {
   "cell_type": "markdown",
   "metadata": {},
   "source": [
    "### CLASS MEMBERSHIP"
   ]
  },
  {
   "cell_type": "code",
   "execution_count": 63,
   "metadata": {},
   "outputs": [
    {
     "data": {
      "text/html": [
       "<div>\n",
       "<style scoped>\n",
       "    .dataframe tbody tr th:only-of-type {\n",
       "        vertical-align: middle;\n",
       "    }\n",
       "\n",
       "    .dataframe tbody tr th {\n",
       "        vertical-align: top;\n",
       "    }\n",
       "\n",
       "    .dataframe thead th {\n",
       "        text-align: right;\n",
       "    }\n",
       "</style>\n",
       "<table border=\"1\" class=\"dataframe\">\n",
       "  <thead>\n",
       "    <tr style=\"text-align: right;\">\n",
       "      <th></th>\n",
       "      <th>PREVAILING_WAGE_YEARLY</th>\n",
       "      <th>FULL_TIME_POSITION_Y</th>\n",
       "      <th>H-1B_DEPENDENT_Y</th>\n",
       "      <th>WILLFUL_VIOLATOR_Y</th>\n",
       "      <th>SECONDARY_ENTITY_Y</th>\n",
       "      <th>SOC_CODE_MAIN_CATEGORY_15</th>\n",
       "      <th>SOC_CODE_MAIN_CATEGORY_19</th>\n",
       "      <th>SOC_CODE_MAIN_CATEGORY_21</th>\n",
       "      <th>SOC_CODE_MAIN_CATEGORY_23</th>\n",
       "      <th>SOC_CODE_MAIN_CATEGORY_31</th>\n",
       "      <th>...</th>\n",
       "      <th>SOC_CODE_MAIN_CATEGORY_51</th>\n",
       "      <th>SOC_CODE_MAIN_CATEGORY_53</th>\n",
       "      <th>NAICS_CODE_MAIN_CATEGORY_11</th>\n",
       "      <th>NAICS_CODE_MAIN_CATEGORY_23</th>\n",
       "      <th>NAICS_CODE_MAIN_CATEGORY_45</th>\n",
       "      <th>NAICS_CODE_MAIN_CATEGORY_49</th>\n",
       "      <th>NAICS_CODE_MAIN_CATEGORY_51</th>\n",
       "      <th>NAICS_CODE_MAIN_CATEGORY_52</th>\n",
       "      <th>NAICS_CODE_MAIN_CATEGORY_61</th>\n",
       "      <th>y_predicted</th>\n",
       "    </tr>\n",
       "  </thead>\n",
       "  <tbody>\n",
       "    <tr>\n",
       "      <th>0</th>\n",
       "      <td>154232.0</td>\n",
       "      <td>1.0</td>\n",
       "      <td>1.0</td>\n",
       "      <td>0.0</td>\n",
       "      <td>1.0</td>\n",
       "      <td>1.0</td>\n",
       "      <td>0.0</td>\n",
       "      <td>0.0</td>\n",
       "      <td>0.0</td>\n",
       "      <td>0.0</td>\n",
       "      <td>...</td>\n",
       "      <td>0.0</td>\n",
       "      <td>0.0</td>\n",
       "      <td>0.0</td>\n",
       "      <td>0.0</td>\n",
       "      <td>0.0</td>\n",
       "      <td>0.0</td>\n",
       "      <td>0.0</td>\n",
       "      <td>0.0</td>\n",
       "      <td>0.0</td>\n",
       "      <td>0</td>\n",
       "    </tr>\n",
       "    <tr>\n",
       "      <th>1</th>\n",
       "      <td>97780.8</td>\n",
       "      <td>1.0</td>\n",
       "      <td>0.0</td>\n",
       "      <td>0.0</td>\n",
       "      <td>0.0</td>\n",
       "      <td>1.0</td>\n",
       "      <td>0.0</td>\n",
       "      <td>0.0</td>\n",
       "      <td>0.0</td>\n",
       "      <td>0.0</td>\n",
       "      <td>...</td>\n",
       "      <td>0.0</td>\n",
       "      <td>0.0</td>\n",
       "      <td>0.0</td>\n",
       "      <td>0.0</td>\n",
       "      <td>0.0</td>\n",
       "      <td>0.0</td>\n",
       "      <td>0.0</td>\n",
       "      <td>1.0</td>\n",
       "      <td>0.0</td>\n",
       "      <td>0</td>\n",
       "    </tr>\n",
       "    <tr>\n",
       "      <th>2</th>\n",
       "      <td>47549.0</td>\n",
       "      <td>1.0</td>\n",
       "      <td>0.0</td>\n",
       "      <td>0.0</td>\n",
       "      <td>0.0</td>\n",
       "      <td>1.0</td>\n",
       "      <td>0.0</td>\n",
       "      <td>0.0</td>\n",
       "      <td>0.0</td>\n",
       "      <td>0.0</td>\n",
       "      <td>...</td>\n",
       "      <td>0.0</td>\n",
       "      <td>0.0</td>\n",
       "      <td>0.0</td>\n",
       "      <td>0.0</td>\n",
       "      <td>0.0</td>\n",
       "      <td>0.0</td>\n",
       "      <td>0.0</td>\n",
       "      <td>0.0</td>\n",
       "      <td>0.0</td>\n",
       "      <td>0</td>\n",
       "    </tr>\n",
       "    <tr>\n",
       "      <th>3</th>\n",
       "      <td>156146.0</td>\n",
       "      <td>1.0</td>\n",
       "      <td>1.0</td>\n",
       "      <td>0.0</td>\n",
       "      <td>1.0</td>\n",
       "      <td>1.0</td>\n",
       "      <td>0.0</td>\n",
       "      <td>0.0</td>\n",
       "      <td>0.0</td>\n",
       "      <td>0.0</td>\n",
       "      <td>...</td>\n",
       "      <td>0.0</td>\n",
       "      <td>0.0</td>\n",
       "      <td>0.0</td>\n",
       "      <td>0.0</td>\n",
       "      <td>0.0</td>\n",
       "      <td>0.0</td>\n",
       "      <td>0.0</td>\n",
       "      <td>0.0</td>\n",
       "      <td>0.0</td>\n",
       "      <td>0</td>\n",
       "    </tr>\n",
       "    <tr>\n",
       "      <th>4</th>\n",
       "      <td>75026.0</td>\n",
       "      <td>1.0</td>\n",
       "      <td>0.0</td>\n",
       "      <td>0.0</td>\n",
       "      <td>0.0</td>\n",
       "      <td>1.0</td>\n",
       "      <td>0.0</td>\n",
       "      <td>0.0</td>\n",
       "      <td>0.0</td>\n",
       "      <td>0.0</td>\n",
       "      <td>...</td>\n",
       "      <td>0.0</td>\n",
       "      <td>0.0</td>\n",
       "      <td>0.0</td>\n",
       "      <td>0.0</td>\n",
       "      <td>0.0</td>\n",
       "      <td>0.0</td>\n",
       "      <td>0.0</td>\n",
       "      <td>0.0</td>\n",
       "      <td>0.0</td>\n",
       "      <td>0</td>\n",
       "    </tr>\n",
       "    <tr>\n",
       "      <th>...</th>\n",
       "      <td>...</td>\n",
       "      <td>...</td>\n",
       "      <td>...</td>\n",
       "      <td>...</td>\n",
       "      <td>...</td>\n",
       "      <td>...</td>\n",
       "      <td>...</td>\n",
       "      <td>...</td>\n",
       "      <td>...</td>\n",
       "      <td>...</td>\n",
       "      <td>...</td>\n",
       "      <td>...</td>\n",
       "      <td>...</td>\n",
       "      <td>...</td>\n",
       "      <td>...</td>\n",
       "      <td>...</td>\n",
       "      <td>...</td>\n",
       "      <td>...</td>\n",
       "      <td>...</td>\n",
       "      <td>...</td>\n",
       "      <td>...</td>\n",
       "    </tr>\n",
       "    <tr>\n",
       "      <th>152495</th>\n",
       "      <td>109242.0</td>\n",
       "      <td>1.0</td>\n",
       "      <td>0.0</td>\n",
       "      <td>0.0</td>\n",
       "      <td>0.0</td>\n",
       "      <td>1.0</td>\n",
       "      <td>0.0</td>\n",
       "      <td>0.0</td>\n",
       "      <td>0.0</td>\n",
       "      <td>0.0</td>\n",
       "      <td>...</td>\n",
       "      <td>0.0</td>\n",
       "      <td>0.0</td>\n",
       "      <td>0.0</td>\n",
       "      <td>0.0</td>\n",
       "      <td>0.0</td>\n",
       "      <td>0.0</td>\n",
       "      <td>0.0</td>\n",
       "      <td>0.0</td>\n",
       "      <td>0.0</td>\n",
       "      <td>0</td>\n",
       "    </tr>\n",
       "    <tr>\n",
       "      <th>152496</th>\n",
       "      <td>109242.0</td>\n",
       "      <td>1.0</td>\n",
       "      <td>1.0</td>\n",
       "      <td>0.0</td>\n",
       "      <td>1.0</td>\n",
       "      <td>1.0</td>\n",
       "      <td>0.0</td>\n",
       "      <td>0.0</td>\n",
       "      <td>0.0</td>\n",
       "      <td>0.0</td>\n",
       "      <td>...</td>\n",
       "      <td>0.0</td>\n",
       "      <td>0.0</td>\n",
       "      <td>0.0</td>\n",
       "      <td>0.0</td>\n",
       "      <td>0.0</td>\n",
       "      <td>0.0</td>\n",
       "      <td>0.0</td>\n",
       "      <td>0.0</td>\n",
       "      <td>0.0</td>\n",
       "      <td>0</td>\n",
       "    </tr>\n",
       "    <tr>\n",
       "      <th>152497</th>\n",
       "      <td>109242.0</td>\n",
       "      <td>1.0</td>\n",
       "      <td>0.0</td>\n",
       "      <td>0.0</td>\n",
       "      <td>0.0</td>\n",
       "      <td>1.0</td>\n",
       "      <td>0.0</td>\n",
       "      <td>0.0</td>\n",
       "      <td>0.0</td>\n",
       "      <td>0.0</td>\n",
       "      <td>...</td>\n",
       "      <td>0.0</td>\n",
       "      <td>0.0</td>\n",
       "      <td>0.0</td>\n",
       "      <td>0.0</td>\n",
       "      <td>0.0</td>\n",
       "      <td>0.0</td>\n",
       "      <td>0.0</td>\n",
       "      <td>0.0</td>\n",
       "      <td>0.0</td>\n",
       "      <td>0</td>\n",
       "    </tr>\n",
       "    <tr>\n",
       "      <th>152498</th>\n",
       "      <td>113318.0</td>\n",
       "      <td>1.0</td>\n",
       "      <td>1.0</td>\n",
       "      <td>0.0</td>\n",
       "      <td>1.0</td>\n",
       "      <td>1.0</td>\n",
       "      <td>0.0</td>\n",
       "      <td>0.0</td>\n",
       "      <td>0.0</td>\n",
       "      <td>0.0</td>\n",
       "      <td>...</td>\n",
       "      <td>0.0</td>\n",
       "      <td>0.0</td>\n",
       "      <td>0.0</td>\n",
       "      <td>0.0</td>\n",
       "      <td>0.0</td>\n",
       "      <td>0.0</td>\n",
       "      <td>0.0</td>\n",
       "      <td>0.0</td>\n",
       "      <td>0.0</td>\n",
       "      <td>0</td>\n",
       "    </tr>\n",
       "    <tr>\n",
       "      <th>152499</th>\n",
       "      <td>92810.0</td>\n",
       "      <td>1.0</td>\n",
       "      <td>1.0</td>\n",
       "      <td>0.0</td>\n",
       "      <td>1.0</td>\n",
       "      <td>1.0</td>\n",
       "      <td>0.0</td>\n",
       "      <td>0.0</td>\n",
       "      <td>0.0</td>\n",
       "      <td>0.0</td>\n",
       "      <td>...</td>\n",
       "      <td>0.0</td>\n",
       "      <td>0.0</td>\n",
       "      <td>0.0</td>\n",
       "      <td>0.0</td>\n",
       "      <td>0.0</td>\n",
       "      <td>0.0</td>\n",
       "      <td>0.0</td>\n",
       "      <td>0.0</td>\n",
       "      <td>0.0</td>\n",
       "      <td>0</td>\n",
       "    </tr>\n",
       "  </tbody>\n",
       "</table>\n",
       "<p>152500 rows × 25 columns</p>\n",
       "</div>"
      ],
      "text/plain": [
       "        PREVAILING_WAGE_YEARLY  FULL_TIME_POSITION_Y  H-1B_DEPENDENT_Y  \\\n",
       "0                     154232.0                   1.0               1.0   \n",
       "1                      97780.8                   1.0               0.0   \n",
       "2                      47549.0                   1.0               0.0   \n",
       "3                     156146.0                   1.0               1.0   \n",
       "4                      75026.0                   1.0               0.0   \n",
       "...                        ...                   ...               ...   \n",
       "152495                109242.0                   1.0               0.0   \n",
       "152496                109242.0                   1.0               1.0   \n",
       "152497                109242.0                   1.0               0.0   \n",
       "152498                113318.0                   1.0               1.0   \n",
       "152499                 92810.0                   1.0               1.0   \n",
       "\n",
       "        WILLFUL_VIOLATOR_Y  SECONDARY_ENTITY_Y  SOC_CODE_MAIN_CATEGORY_15  \\\n",
       "0                      0.0                 1.0                        1.0   \n",
       "1                      0.0                 0.0                        1.0   \n",
       "2                      0.0                 0.0                        1.0   \n",
       "3                      0.0                 1.0                        1.0   \n",
       "4                      0.0                 0.0                        1.0   \n",
       "...                    ...                 ...                        ...   \n",
       "152495                 0.0                 0.0                        1.0   \n",
       "152496                 0.0                 1.0                        1.0   \n",
       "152497                 0.0                 0.0                        1.0   \n",
       "152498                 0.0                 1.0                        1.0   \n",
       "152499                 0.0                 1.0                        1.0   \n",
       "\n",
       "        SOC_CODE_MAIN_CATEGORY_19  SOC_CODE_MAIN_CATEGORY_21  \\\n",
       "0                             0.0                        0.0   \n",
       "1                             0.0                        0.0   \n",
       "2                             0.0                        0.0   \n",
       "3                             0.0                        0.0   \n",
       "4                             0.0                        0.0   \n",
       "...                           ...                        ...   \n",
       "152495                        0.0                        0.0   \n",
       "152496                        0.0                        0.0   \n",
       "152497                        0.0                        0.0   \n",
       "152498                        0.0                        0.0   \n",
       "152499                        0.0                        0.0   \n",
       "\n",
       "        SOC_CODE_MAIN_CATEGORY_23  SOC_CODE_MAIN_CATEGORY_31  ...  \\\n",
       "0                             0.0                        0.0  ...   \n",
       "1                             0.0                        0.0  ...   \n",
       "2                             0.0                        0.0  ...   \n",
       "3                             0.0                        0.0  ...   \n",
       "4                             0.0                        0.0  ...   \n",
       "...                           ...                        ...  ...   \n",
       "152495                        0.0                        0.0  ...   \n",
       "152496                        0.0                        0.0  ...   \n",
       "152497                        0.0                        0.0  ...   \n",
       "152498                        0.0                        0.0  ...   \n",
       "152499                        0.0                        0.0  ...   \n",
       "\n",
       "        SOC_CODE_MAIN_CATEGORY_51  SOC_CODE_MAIN_CATEGORY_53  \\\n",
       "0                             0.0                        0.0   \n",
       "1                             0.0                        0.0   \n",
       "2                             0.0                        0.0   \n",
       "3                             0.0                        0.0   \n",
       "4                             0.0                        0.0   \n",
       "...                           ...                        ...   \n",
       "152495                        0.0                        0.0   \n",
       "152496                        0.0                        0.0   \n",
       "152497                        0.0                        0.0   \n",
       "152498                        0.0                        0.0   \n",
       "152499                        0.0                        0.0   \n",
       "\n",
       "        NAICS_CODE_MAIN_CATEGORY_11  NAICS_CODE_MAIN_CATEGORY_23  \\\n",
       "0                               0.0                          0.0   \n",
       "1                               0.0                          0.0   \n",
       "2                               0.0                          0.0   \n",
       "3                               0.0                          0.0   \n",
       "4                               0.0                          0.0   \n",
       "...                             ...                          ...   \n",
       "152495                          0.0                          0.0   \n",
       "152496                          0.0                          0.0   \n",
       "152497                          0.0                          0.0   \n",
       "152498                          0.0                          0.0   \n",
       "152499                          0.0                          0.0   \n",
       "\n",
       "        NAICS_CODE_MAIN_CATEGORY_45  NAICS_CODE_MAIN_CATEGORY_49  \\\n",
       "0                               0.0                          0.0   \n",
       "1                               0.0                          0.0   \n",
       "2                               0.0                          0.0   \n",
       "3                               0.0                          0.0   \n",
       "4                               0.0                          0.0   \n",
       "...                             ...                          ...   \n",
       "152495                          0.0                          0.0   \n",
       "152496                          0.0                          0.0   \n",
       "152497                          0.0                          0.0   \n",
       "152498                          0.0                          0.0   \n",
       "152499                          0.0                          0.0   \n",
       "\n",
       "        NAICS_CODE_MAIN_CATEGORY_51  NAICS_CODE_MAIN_CATEGORY_52  \\\n",
       "0                               0.0                          0.0   \n",
       "1                               0.0                          1.0   \n",
       "2                               0.0                          0.0   \n",
       "3                               0.0                          0.0   \n",
       "4                               0.0                          0.0   \n",
       "...                             ...                          ...   \n",
       "152495                          0.0                          0.0   \n",
       "152496                          0.0                          0.0   \n",
       "152497                          0.0                          0.0   \n",
       "152498                          0.0                          0.0   \n",
       "152499                          0.0                          0.0   \n",
       "\n",
       "        NAICS_CODE_MAIN_CATEGORY_61  y_predicted  \n",
       "0                               0.0            0  \n",
       "1                               0.0            0  \n",
       "2                               0.0            0  \n",
       "3                               0.0            0  \n",
       "4                               0.0            0  \n",
       "...                             ...          ...  \n",
       "152495                          0.0            0  \n",
       "152496                          0.0            0  \n",
       "152497                          0.0            0  \n",
       "152498                          0.0            0  \n",
       "152499                          0.0            0  \n",
       "\n",
       "[152500 rows x 25 columns]"
      ]
     },
     "execution_count": 63,
     "metadata": {},
     "output_type": "execute_result"
    }
   ],
   "source": [
    "# append predicted data to test data\n",
    "data_store = pd.DataFrame(X_test1)\n",
    "data_store.columns = featured_col_names\n",
    "\n",
    "# #inverse the transformed data\n",
    "data_store[['PREVAILING_WAGE_YEARLY']] = pd.DataFrame(np.exp(df_3[['PREVAILING_WAGE_YEARLY']]))\n",
    "data_store['y_predicted'] = y_pred_1\n",
    "data_store"
   ]
  },
  {
   "cell_type": "code",
   "execution_count": 64,
   "metadata": {},
   "outputs": [],
   "source": [
    "data_store[\"pred_prob\"] = pred_prob[:,1]"
   ]
  },
  {
   "cell_type": "code",
   "execution_count": 65,
   "metadata": {},
   "outputs": [
    {
     "name": "stdout",
     "output_type": "stream",
     "text": [
      "File created successfully!\n"
     ]
    }
   ],
   "source": [
    "import os\n",
    "import sys\n",
    "\n",
    "try:\n",
    "    os.remove(\"Class Membership.csv\")\n",
    "except:\n",
    "    print(sys.exc_info()[0], \"occured while deleting file \")\n",
    "\n",
    "data_store.to_csv(\"Class Membership.csv\")\n",
    "print(\"File created successfully!\")"
   ]
  },
  {
   "cell_type": "markdown",
   "metadata": {},
   "source": [
    "### OUT OF SAMPLE PREDICTION ANALYSIS"
   ]
  },
  {
   "cell_type": "code",
   "execution_count": 78,
   "metadata": {
    "scrolled": true
   },
   "outputs": [
    {
     "data": {
      "text/plain": [
       "Index(['PREVAILING_WAGE_YEARLY', 'FULL_TIME_POSITION_Y', 'H-1B_DEPENDENT_Y',\n",
       "       'WILLFUL_VIOLATOR_Y', 'SECONDARY_ENTITY_Y', 'SOC_CODE_MAIN_CATEGORY_15',\n",
       "       'SOC_CODE_MAIN_CATEGORY_19', 'SOC_CODE_MAIN_CATEGORY_21',\n",
       "       'SOC_CODE_MAIN_CATEGORY_23', 'SOC_CODE_MAIN_CATEGORY_31',\n",
       "       'SOC_CODE_MAIN_CATEGORY_35', 'SOC_CODE_MAIN_CATEGORY_37',\n",
       "       'SOC_CODE_MAIN_CATEGORY_43', 'SOC_CODE_MAIN_CATEGORY_47',\n",
       "       'SOC_CODE_MAIN_CATEGORY_49', 'SOC_CODE_MAIN_CATEGORY_51',\n",
       "       'SOC_CODE_MAIN_CATEGORY_53', 'NAICS_CODE_MAIN_CATEGORY_11',\n",
       "       'NAICS_CODE_MAIN_CATEGORY_23', 'NAICS_CODE_MAIN_CATEGORY_45',\n",
       "       'NAICS_CODE_MAIN_CATEGORY_49', 'NAICS_CODE_MAIN_CATEGORY_51',\n",
       "       'NAICS_CODE_MAIN_CATEGORY_52', 'NAICS_CODE_MAIN_CATEGORY_61'],\n",
       "      dtype='object')"
      ]
     },
     "execution_count": 78,
     "metadata": {},
     "output_type": "execute_result"
    }
   ],
   "source": [
    "featured_col_names"
   ]
  },
  {
   "cell_type": "code",
   "execution_count": 107,
   "metadata": {},
   "outputs": [
    {
     "data": {
      "text/plain": [
       "array([0], dtype=uint8)"
      ]
     },
     "execution_count": 107,
     "metadata": {},
     "output_type": "execute_result"
    }
   ],
   "source": [
    "X_new = [[85000, 1, 1,\n",
    "          0, 0, 1,\n",
    "          0, 0, \n",
    "          0, 0, \n",
    "          0, 0,\n",
    "          0, 0,\n",
    "          0, 0,\n",
    "          0, 0,\n",
    "          0, 0,\n",
    "          0, 1,\n",
    "          0, 0\n",
    "         ]]\n",
    "\n",
    "y_predict = logreg_m1.predict(X_new)\n",
    "y_predict"
   ]
  },
  {
   "cell_type": "code",
   "execution_count": 104,
   "metadata": {},
   "outputs": [
    {
     "name": "stdout",
     "output_type": "stream",
     "text": [
      "The predicted class membership for the application is [0]  which means that the applicant will be Accepted\n"
     ]
    }
   ],
   "source": [
    "if y_predict == 0:\n",
    "    class_label = \"Accepted\"\n",
    "else:\n",
    "    class_label = \"Denied\"\n",
    "    \n",
    "print(\"The predicted class membership for the application is\",y_predict,\" which means that the applicant will be\", class_label)"
   ]
  },
  {
   "cell_type": "code",
   "execution_count": 105,
   "metadata": {},
   "outputs": [
    {
     "name": "stdout",
     "output_type": "stream",
     "text": [
      "Predicted probability is [1.] , which means the probability of acceptance of the application is [1.]\n"
     ]
    }
   ],
   "source": [
    "if y_predict == 0:\n",
    "    y_pred_prob = logreg_m1.predict_proba(X_new)[:,0]\n",
    "    prob_label = \", which means the probability of acceptance of the application is\"\n",
    "else:\n",
    "    y_predict = logreg_m1.predict_proba(X_new)[:,1]\n",
    "    prob_label = \", which means the probability of denial of the application is\"\n",
    "    \n",
    "print(\"Predicted probability is\",y_pred_prob, prob_label, y_pred_prob)"
   ]
  }
 ],
 "metadata": {
  "kernelspec": {
   "display_name": "Python 3",
   "language": "python",
   "name": "python3"
  },
  "language_info": {
   "codemirror_mode": {
    "name": "ipython",
    "version": 3
   },
   "file_extension": ".py",
   "mimetype": "text/x-python",
   "name": "python",
   "nbconvert_exporter": "python",
   "pygments_lexer": "ipython3",
   "version": "3.7.6"
  }
 },
 "nbformat": 4,
 "nbformat_minor": 4
}
