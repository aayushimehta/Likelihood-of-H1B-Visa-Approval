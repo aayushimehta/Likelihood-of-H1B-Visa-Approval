{
 "cells": [
  {
   "cell_type": "code",
   "execution_count": 1,
   "metadata": {},
   "outputs": [
    {
     "data": {
      "text/html": [
       "<div>\n",
       "<style scoped>\n",
       "    .dataframe tbody tr th:only-of-type {\n",
       "        vertical-align: middle;\n",
       "    }\n",
       "\n",
       "    .dataframe tbody tr th {\n",
       "        vertical-align: top;\n",
       "    }\n",
       "\n",
       "    .dataframe thead th {\n",
       "        text-align: right;\n",
       "    }\n",
       "</style>\n",
       "<table border=\"1\" class=\"dataframe\">\n",
       "  <thead>\n",
       "    <tr style=\"text-align: right;\">\n",
       "      <th></th>\n",
       "      <th>CASE_STATUS</th>\n",
       "      <th>AGENT_REPRESENTING_EMPLOYER</th>\n",
       "      <th>SOC_CODE</th>\n",
       "      <th>NAICS_CODE</th>\n",
       "      <th>FULL_TIME_POSITION</th>\n",
       "      <th>TOTAL_WORKER_POSITIONS</th>\n",
       "      <th>H-1B_DEPENDENT</th>\n",
       "      <th>WILLFUL_VIOLATOR</th>\n",
       "      <th>SECONDARY_ENTITY_1</th>\n",
       "      <th>PREVAILING_WAGE_1</th>\n",
       "      <th>PW_UNIT_OF_PAY_1</th>\n",
       "      <th>PW_WAGE_LEVEL_1</th>\n",
       "      <th>WAGE_RATE_OF_PAY_FROM_1</th>\n",
       "      <th>WAGE_RATE_OF_PAY_TO_1</th>\n",
       "      <th>WAGE_UNIT_OF_PAY_1</th>\n",
       "    </tr>\n",
       "  </thead>\n",
       "  <tbody>\n",
       "    <tr>\n",
       "      <th>0</th>\n",
       "      <td>CERTIFIED</td>\n",
       "      <td>Y</td>\n",
       "      <td>11-2011</td>\n",
       "      <td>511210.0</td>\n",
       "      <td>N</td>\n",
       "      <td>1.0</td>\n",
       "      <td>N</td>\n",
       "      <td>N</td>\n",
       "      <td>NaN</td>\n",
       "      <td>NaN</td>\n",
       "      <td>NaN</td>\n",
       "      <td>NaN</td>\n",
       "      <td>33.0</td>\n",
       "      <td>NaN</td>\n",
       "      <td>Hour</td>\n",
       "    </tr>\n",
       "    <tr>\n",
       "      <th>1</th>\n",
       "      <td>CERTIFIED</td>\n",
       "      <td>Y</td>\n",
       "      <td>11-2011</td>\n",
       "      <td>56142.0</td>\n",
       "      <td>Y</td>\n",
       "      <td>1.0</td>\n",
       "      <td>N</td>\n",
       "      <td>N</td>\n",
       "      <td>NaN</td>\n",
       "      <td>NaN</td>\n",
       "      <td>NaN</td>\n",
       "      <td>NaN</td>\n",
       "      <td>99000.0</td>\n",
       "      <td>NaN</td>\n",
       "      <td>Year</td>\n",
       "    </tr>\n",
       "    <tr>\n",
       "      <th>2</th>\n",
       "      <td>CERTIFIED</td>\n",
       "      <td>N</td>\n",
       "      <td>11-2011</td>\n",
       "      <td>611310.0</td>\n",
       "      <td>Y</td>\n",
       "      <td>1.0</td>\n",
       "      <td>N</td>\n",
       "      <td>N</td>\n",
       "      <td>NaN</td>\n",
       "      <td>55370.0</td>\n",
       "      <td>Year</td>\n",
       "      <td>Level I</td>\n",
       "      <td>67500.0</td>\n",
       "      <td>NaN</td>\n",
       "      <td>Year</td>\n",
       "    </tr>\n",
       "    <tr>\n",
       "      <th>3</th>\n",
       "      <td>CERTIFIED</td>\n",
       "      <td>Y</td>\n",
       "      <td>11-2011</td>\n",
       "      <td>541830.0</td>\n",
       "      <td>Y</td>\n",
       "      <td>1.0</td>\n",
       "      <td>N</td>\n",
       "      <td>N</td>\n",
       "      <td>NaN</td>\n",
       "      <td>94806.0</td>\n",
       "      <td>Year</td>\n",
       "      <td>Level I</td>\n",
       "      <td>102000.0</td>\n",
       "      <td>NaN</td>\n",
       "      <td>Year</td>\n",
       "    </tr>\n",
       "    <tr>\n",
       "      <th>4</th>\n",
       "      <td>CERTIFIED</td>\n",
       "      <td>Y</td>\n",
       "      <td>11-2011</td>\n",
       "      <td>334111.0</td>\n",
       "      <td>Y</td>\n",
       "      <td>50.0</td>\n",
       "      <td>N</td>\n",
       "      <td>N</td>\n",
       "      <td>NaN</td>\n",
       "      <td>97781.0</td>\n",
       "      <td>Year</td>\n",
       "      <td>Level II</td>\n",
       "      <td>97781.0</td>\n",
       "      <td>NaN</td>\n",
       "      <td>Year</td>\n",
       "    </tr>\n",
       "  </tbody>\n",
       "</table>\n",
       "</div>"
      ],
      "text/plain": [
       "  CASE_STATUS AGENT_REPRESENTING_EMPLOYER SOC_CODE  NAICS_CODE  \\\n",
       "0   CERTIFIED                           Y  11-2011    511210.0   \n",
       "1   CERTIFIED                           Y  11-2011     56142.0   \n",
       "2   CERTIFIED                           N  11-2011    611310.0   \n",
       "3   CERTIFIED                           Y  11-2011    541830.0   \n",
       "4   CERTIFIED                           Y  11-2011    334111.0   \n",
       "\n",
       "  FULL_TIME_POSITION  TOTAL_WORKER_POSITIONS H-1B_DEPENDENT WILLFUL_VIOLATOR  \\\n",
       "0                  N                     1.0              N                N   \n",
       "1                  Y                     1.0              N                N   \n",
       "2                  Y                     1.0              N                N   \n",
       "3                  Y                     1.0              N                N   \n",
       "4                  Y                    50.0              N                N   \n",
       "\n",
       "  SECONDARY_ENTITY_1  PREVAILING_WAGE_1 PW_UNIT_OF_PAY_1 PW_WAGE_LEVEL_1  \\\n",
       "0                NaN                NaN              NaN             NaN   \n",
       "1                NaN                NaN              NaN             NaN   \n",
       "2                NaN            55370.0             Year         Level I   \n",
       "3                NaN            94806.0             Year         Level I   \n",
       "4                NaN            97781.0             Year        Level II   \n",
       "\n",
       "   WAGE_RATE_OF_PAY_FROM_1  WAGE_RATE_OF_PAY_TO_1 WAGE_UNIT_OF_PAY_1  \n",
       "0                     33.0                    NaN               Hour  \n",
       "1                  99000.0                    NaN               Year  \n",
       "2                  67500.0                    NaN               Year  \n",
       "3                 102000.0                    NaN               Year  \n",
       "4                  97781.0                    NaN               Year  "
      ]
     },
     "execution_count": 1,
     "metadata": {},
     "output_type": "execute_result"
    }
   ],
   "source": [
    "import pandas as pd\n",
    "import numpy as np\n",
    "df = pd.read_csv(\"selected_data.csv\",sep = \",\", index_col = 0)\n",
    "df.head()"
   ]
  },
  {
   "cell_type": "code",
   "execution_count": 2,
   "metadata": {},
   "outputs": [
    {
     "data": {
      "text/plain": [
       "(583806, 15)"
      ]
     },
     "execution_count": 2,
     "metadata": {},
     "output_type": "execute_result"
    }
   ],
   "source": [
    "df.shape"
   ]
  },
  {
   "cell_type": "markdown",
   "metadata": {},
   "source": [
    "### CASE_STATUS variable: Highly Imbalanced Dataset"
   ]
  },
  {
   "cell_type": "code",
   "execution_count": 3,
   "metadata": {},
   "outputs": [
    {
     "data": {
      "text/plain": [
       "CERTIFIED    578640\n",
       "DENIED         5166\n",
       "Name: CASE_STATUS, dtype: int64"
      ]
     },
     "execution_count": 3,
     "metadata": {},
     "output_type": "execute_result"
    }
   ],
   "source": [
    "df.CASE_STATUS.value_counts()"
   ]
  },
  {
   "cell_type": "code",
   "execution_count": 4,
   "metadata": {},
   "outputs": [],
   "source": [
    "# u = df.groupby(['EMPLOYER_STATE','CASE_STATUS'])\n",
    "# u.count()"
   ]
  },
  {
   "cell_type": "code",
   "execution_count": 5,
   "metadata": {},
   "outputs": [
    {
     "data": {
      "text/plain": [
       "CASE_STATUS                     object\n",
       "AGENT_REPRESENTING_EMPLOYER     object\n",
       "SOC_CODE                        object\n",
       "NAICS_CODE                     float64\n",
       "FULL_TIME_POSITION              object\n",
       "TOTAL_WORKER_POSITIONS         float64\n",
       "H-1B_DEPENDENT                  object\n",
       "WILLFUL_VIOLATOR                object\n",
       "SECONDARY_ENTITY_1              object\n",
       "PREVAILING_WAGE_1              float64\n",
       "PW_UNIT_OF_PAY_1                object\n",
       "PW_WAGE_LEVEL_1                 object\n",
       "WAGE_RATE_OF_PAY_FROM_1        float64\n",
       "WAGE_RATE_OF_PAY_TO_1          float64\n",
       "WAGE_UNIT_OF_PAY_1              object\n",
       "dtype: object"
      ]
     },
     "execution_count": 5,
     "metadata": {},
     "output_type": "execute_result"
    }
   ],
   "source": [
    "df.dtypes"
   ]
  },
  {
   "cell_type": "code",
   "execution_count": 6,
   "metadata": {},
   "outputs": [],
   "source": [
    "df_1 = df.copy()"
   ]
  },
  {
   "cell_type": "code",
   "execution_count": 7,
   "metadata": {},
   "outputs": [
    {
     "data": {
      "text/html": [
       "<div>\n",
       "<style scoped>\n",
       "    .dataframe tbody tr th:only-of-type {\n",
       "        vertical-align: middle;\n",
       "    }\n",
       "\n",
       "    .dataframe tbody tr th {\n",
       "        vertical-align: top;\n",
       "    }\n",
       "\n",
       "    .dataframe thead th {\n",
       "        text-align: right;\n",
       "    }\n",
       "</style>\n",
       "<table border=\"1\" class=\"dataframe\">\n",
       "  <thead>\n",
       "    <tr style=\"text-align: right;\">\n",
       "      <th></th>\n",
       "      <th>CASE_STATUS</th>\n",
       "      <th>AGENT_REPRESENTING_EMPLOYER</th>\n",
       "      <th>SOC_CODE</th>\n",
       "      <th>NAICS_CODE</th>\n",
       "      <th>FULL_TIME_POSITION</th>\n",
       "      <th>TOTAL_WORKER_POSITIONS</th>\n",
       "      <th>H-1B_DEPENDENT</th>\n",
       "      <th>WILLFUL_VIOLATOR</th>\n",
       "      <th>SECONDARY_ENTITY_1</th>\n",
       "      <th>PREVAILING_WAGE_1</th>\n",
       "      <th>PW_UNIT_OF_PAY_1</th>\n",
       "      <th>PW_WAGE_LEVEL_1</th>\n",
       "      <th>WAGE_RATE_OF_PAY_FROM_1</th>\n",
       "      <th>WAGE_RATE_OF_PAY_TO_1</th>\n",
       "      <th>WAGE_UNIT_OF_PAY_1</th>\n",
       "    </tr>\n",
       "  </thead>\n",
       "  <tbody>\n",
       "    <tr>\n",
       "      <th>0</th>\n",
       "      <td>CERTIFIED</td>\n",
       "      <td>Y</td>\n",
       "      <td>11-2011</td>\n",
       "      <td>511210.0</td>\n",
       "      <td>N</td>\n",
       "      <td>1.0</td>\n",
       "      <td>N</td>\n",
       "      <td>N</td>\n",
       "      <td>NaN</td>\n",
       "      <td>NaN</td>\n",
       "      <td>NaN</td>\n",
       "      <td>NaN</td>\n",
       "      <td>33.0</td>\n",
       "      <td>33.0</td>\n",
       "      <td>Hour</td>\n",
       "    </tr>\n",
       "    <tr>\n",
       "      <th>1</th>\n",
       "      <td>CERTIFIED</td>\n",
       "      <td>Y</td>\n",
       "      <td>11-2011</td>\n",
       "      <td>56142.0</td>\n",
       "      <td>Y</td>\n",
       "      <td>1.0</td>\n",
       "      <td>N</td>\n",
       "      <td>N</td>\n",
       "      <td>NaN</td>\n",
       "      <td>NaN</td>\n",
       "      <td>NaN</td>\n",
       "      <td>NaN</td>\n",
       "      <td>99000.0</td>\n",
       "      <td>99000.0</td>\n",
       "      <td>Year</td>\n",
       "    </tr>\n",
       "    <tr>\n",
       "      <th>2</th>\n",
       "      <td>CERTIFIED</td>\n",
       "      <td>N</td>\n",
       "      <td>11-2011</td>\n",
       "      <td>611310.0</td>\n",
       "      <td>Y</td>\n",
       "      <td>1.0</td>\n",
       "      <td>N</td>\n",
       "      <td>N</td>\n",
       "      <td>NaN</td>\n",
       "      <td>55370.0</td>\n",
       "      <td>Year</td>\n",
       "      <td>Level I</td>\n",
       "      <td>67500.0</td>\n",
       "      <td>67500.0</td>\n",
       "      <td>Year</td>\n",
       "    </tr>\n",
       "    <tr>\n",
       "      <th>3</th>\n",
       "      <td>CERTIFIED</td>\n",
       "      <td>Y</td>\n",
       "      <td>11-2011</td>\n",
       "      <td>541830.0</td>\n",
       "      <td>Y</td>\n",
       "      <td>1.0</td>\n",
       "      <td>N</td>\n",
       "      <td>N</td>\n",
       "      <td>NaN</td>\n",
       "      <td>94806.0</td>\n",
       "      <td>Year</td>\n",
       "      <td>Level I</td>\n",
       "      <td>102000.0</td>\n",
       "      <td>102000.0</td>\n",
       "      <td>Year</td>\n",
       "    </tr>\n",
       "    <tr>\n",
       "      <th>4</th>\n",
       "      <td>CERTIFIED</td>\n",
       "      <td>Y</td>\n",
       "      <td>11-2011</td>\n",
       "      <td>334111.0</td>\n",
       "      <td>Y</td>\n",
       "      <td>50.0</td>\n",
       "      <td>N</td>\n",
       "      <td>N</td>\n",
       "      <td>NaN</td>\n",
       "      <td>97781.0</td>\n",
       "      <td>Year</td>\n",
       "      <td>Level II</td>\n",
       "      <td>97781.0</td>\n",
       "      <td>97781.0</td>\n",
       "      <td>Year</td>\n",
       "    </tr>\n",
       "    <tr>\n",
       "      <th>...</th>\n",
       "      <td>...</td>\n",
       "      <td>...</td>\n",
       "      <td>...</td>\n",
       "      <td>...</td>\n",
       "      <td>...</td>\n",
       "      <td>...</td>\n",
       "      <td>...</td>\n",
       "      <td>...</td>\n",
       "      <td>...</td>\n",
       "      <td>...</td>\n",
       "      <td>...</td>\n",
       "      <td>...</td>\n",
       "      <td>...</td>\n",
       "      <td>...</td>\n",
       "      <td>...</td>\n",
       "    </tr>\n",
       "    <tr>\n",
       "      <th>583801</th>\n",
       "      <td>CERTIFIED</td>\n",
       "      <td>Y</td>\n",
       "      <td>OPERATIONS RESEARCH ANALYSTS</td>\n",
       "      <td>524113.0</td>\n",
       "      <td>Y</td>\n",
       "      <td>1.0</td>\n",
       "      <td>N</td>\n",
       "      <td>N</td>\n",
       "      <td>NaN</td>\n",
       "      <td>75733.0</td>\n",
       "      <td>Year</td>\n",
       "      <td>Level III</td>\n",
       "      <td>85500.0</td>\n",
       "      <td>85500.0</td>\n",
       "      <td>Year</td>\n",
       "    </tr>\n",
       "    <tr>\n",
       "      <th>583802</th>\n",
       "      <td>DENIED</td>\n",
       "      <td>N</td>\n",
       "      <td>NaN</td>\n",
       "      <td>5416.0</td>\n",
       "      <td>Y</td>\n",
       "      <td>1.0</td>\n",
       "      <td>Y</td>\n",
       "      <td>N</td>\n",
       "      <td>Y</td>\n",
       "      <td>80704.0</td>\n",
       "      <td>Year</td>\n",
       "      <td>Level II</td>\n",
       "      <td>80800.0</td>\n",
       "      <td>80800.0</td>\n",
       "      <td>Year</td>\n",
       "    </tr>\n",
       "    <tr>\n",
       "      <th>583803</th>\n",
       "      <td>DENIED</td>\n",
       "      <td>N</td>\n",
       "      <td>NaN</td>\n",
       "      <td>5416.0</td>\n",
       "      <td>Y</td>\n",
       "      <td>1.0</td>\n",
       "      <td>Y</td>\n",
       "      <td>N</td>\n",
       "      <td>Y</td>\n",
       "      <td>74443.0</td>\n",
       "      <td>Year</td>\n",
       "      <td>Level II</td>\n",
       "      <td>74500.0</td>\n",
       "      <td>74500.0</td>\n",
       "      <td>Year</td>\n",
       "    </tr>\n",
       "    <tr>\n",
       "      <th>583804</th>\n",
       "      <td>DENIED</td>\n",
       "      <td>N</td>\n",
       "      <td>NaN</td>\n",
       "      <td>5416.0</td>\n",
       "      <td>Y</td>\n",
       "      <td>1.0</td>\n",
       "      <td>Y</td>\n",
       "      <td>N</td>\n",
       "      <td>Y</td>\n",
       "      <td>75858.0</td>\n",
       "      <td>Year</td>\n",
       "      <td>Level III</td>\n",
       "      <td>75900.0</td>\n",
       "      <td>75900.0</td>\n",
       "      <td>Year</td>\n",
       "    </tr>\n",
       "    <tr>\n",
       "      <th>583805</th>\n",
       "      <td>DENIED</td>\n",
       "      <td>NaN</td>\n",
       "      <td>NaN</td>\n",
       "      <td>5416.0</td>\n",
       "      <td>Y</td>\n",
       "      <td>1.0</td>\n",
       "      <td>Y</td>\n",
       "      <td>N</td>\n",
       "      <td>Y</td>\n",
       "      <td>66643.0</td>\n",
       "      <td>Year</td>\n",
       "      <td>Level II</td>\n",
       "      <td>66700.0</td>\n",
       "      <td>66700.0</td>\n",
       "      <td>Year</td>\n",
       "    </tr>\n",
       "  </tbody>\n",
       "</table>\n",
       "<p>583802 rows × 15 columns</p>\n",
       "</div>"
      ],
      "text/plain": [
       "       CASE_STATUS AGENT_REPRESENTING_EMPLOYER                      SOC_CODE  \\\n",
       "0        CERTIFIED                           Y                       11-2011   \n",
       "1        CERTIFIED                           Y                       11-2011   \n",
       "2        CERTIFIED                           N                       11-2011   \n",
       "3        CERTIFIED                           Y                       11-2011   \n",
       "4        CERTIFIED                           Y                       11-2011   \n",
       "...            ...                         ...                           ...   \n",
       "583801   CERTIFIED                           Y  OPERATIONS RESEARCH ANALYSTS   \n",
       "583802      DENIED                           N                           NaN   \n",
       "583803      DENIED                           N                           NaN   \n",
       "583804      DENIED                           N                           NaN   \n",
       "583805      DENIED                         NaN                           NaN   \n",
       "\n",
       "        NAICS_CODE FULL_TIME_POSITION  TOTAL_WORKER_POSITIONS H-1B_DEPENDENT  \\\n",
       "0         511210.0                  N                     1.0              N   \n",
       "1          56142.0                  Y                     1.0              N   \n",
       "2         611310.0                  Y                     1.0              N   \n",
       "3         541830.0                  Y                     1.0              N   \n",
       "4         334111.0                  Y                    50.0              N   \n",
       "...            ...                ...                     ...            ...   \n",
       "583801    524113.0                  Y                     1.0              N   \n",
       "583802      5416.0                  Y                     1.0              Y   \n",
       "583803      5416.0                  Y                     1.0              Y   \n",
       "583804      5416.0                  Y                     1.0              Y   \n",
       "583805      5416.0                  Y                     1.0              Y   \n",
       "\n",
       "       WILLFUL_VIOLATOR SECONDARY_ENTITY_1  PREVAILING_WAGE_1  \\\n",
       "0                     N                NaN                NaN   \n",
       "1                     N                NaN                NaN   \n",
       "2                     N                NaN            55370.0   \n",
       "3                     N                NaN            94806.0   \n",
       "4                     N                NaN            97781.0   \n",
       "...                 ...                ...                ...   \n",
       "583801                N                NaN            75733.0   \n",
       "583802                N                  Y            80704.0   \n",
       "583803                N                  Y            74443.0   \n",
       "583804                N                  Y            75858.0   \n",
       "583805                N                  Y            66643.0   \n",
       "\n",
       "       PW_UNIT_OF_PAY_1 PW_WAGE_LEVEL_1  WAGE_RATE_OF_PAY_FROM_1  \\\n",
       "0                   NaN             NaN                     33.0   \n",
       "1                   NaN             NaN                  99000.0   \n",
       "2                  Year         Level I                  67500.0   \n",
       "3                  Year         Level I                 102000.0   \n",
       "4                  Year        Level II                  97781.0   \n",
       "...                 ...             ...                      ...   \n",
       "583801             Year       Level III                  85500.0   \n",
       "583802             Year        Level II                  80800.0   \n",
       "583803             Year        Level II                  74500.0   \n",
       "583804             Year       Level III                  75900.0   \n",
       "583805             Year        Level II                  66700.0   \n",
       "\n",
       "        WAGE_RATE_OF_PAY_TO_1 WAGE_UNIT_OF_PAY_1  \n",
       "0                        33.0               Hour  \n",
       "1                     99000.0               Year  \n",
       "2                     67500.0               Year  \n",
       "3                    102000.0               Year  \n",
       "4                     97781.0               Year  \n",
       "...                       ...                ...  \n",
       "583801                85500.0               Year  \n",
       "583802                80800.0               Year  \n",
       "583803                74500.0               Year  \n",
       "583804                75900.0               Year  \n",
       "583805                66700.0               Year  \n",
       "\n",
       "[583802 rows x 15 columns]"
      ]
     },
     "execution_count": 7,
     "metadata": {},
     "output_type": "execute_result"
    }
   ],
   "source": [
    "df_1 = df_1[~df_1['WAGE_RATE_OF_PAY_FROM_1'].isna()]\n",
    "len(df_1['WAGE_RATE_OF_PAY_FROM_1'])\n",
    "\n",
    "df_1['WAGE_RATE_OF_PAY_TO_1'] = df_1['WAGE_RATE_OF_PAY_TO_1'].fillna(df_1['WAGE_RATE_OF_PAY_FROM_1'])\n",
    "df_1"
   ]
  },
  {
   "cell_type": "markdown",
   "metadata": {},
   "source": [
    "Next, we find the average of the wage range by calculating the mean between WAGE_RATE_OF_PAY_FROM_1 and WAGE_RATE_OF_PAY_TO_1"
   ]
  },
  {
   "cell_type": "code",
   "execution_count": 8,
   "metadata": {},
   "outputs": [
    {
     "data": {
      "text/html": [
       "<div>\n",
       "<style scoped>\n",
       "    .dataframe tbody tr th:only-of-type {\n",
       "        vertical-align: middle;\n",
       "    }\n",
       "\n",
       "    .dataframe tbody tr th {\n",
       "        vertical-align: top;\n",
       "    }\n",
       "\n",
       "    .dataframe thead th {\n",
       "        text-align: right;\n",
       "    }\n",
       "</style>\n",
       "<table border=\"1\" class=\"dataframe\">\n",
       "  <thead>\n",
       "    <tr style=\"text-align: right;\">\n",
       "      <th></th>\n",
       "      <th>CASE_STATUS</th>\n",
       "      <th>AGENT_REPRESENTING_EMPLOYER</th>\n",
       "      <th>SOC_CODE</th>\n",
       "      <th>NAICS_CODE</th>\n",
       "      <th>FULL_TIME_POSITION</th>\n",
       "      <th>TOTAL_WORKER_POSITIONS</th>\n",
       "      <th>H-1B_DEPENDENT</th>\n",
       "      <th>WILLFUL_VIOLATOR</th>\n",
       "      <th>SECONDARY_ENTITY_1</th>\n",
       "      <th>PREVAILING_WAGE_1</th>\n",
       "      <th>PW_UNIT_OF_PAY_1</th>\n",
       "      <th>PW_WAGE_LEVEL_1</th>\n",
       "      <th>WAGE_RATE_OF_PAY_FROM_1</th>\n",
       "      <th>WAGE_RATE_OF_PAY_TO_1</th>\n",
       "      <th>WAGE_UNIT_OF_PAY_1</th>\n",
       "      <th>MEAN_WAGE_RATE</th>\n",
       "    </tr>\n",
       "  </thead>\n",
       "  <tbody>\n",
       "    <tr>\n",
       "      <th>0</th>\n",
       "      <td>CERTIFIED</td>\n",
       "      <td>Y</td>\n",
       "      <td>11-2011</td>\n",
       "      <td>511210.0</td>\n",
       "      <td>N</td>\n",
       "      <td>1.0</td>\n",
       "      <td>N</td>\n",
       "      <td>N</td>\n",
       "      <td>NaN</td>\n",
       "      <td>NaN</td>\n",
       "      <td>NaN</td>\n",
       "      <td>NaN</td>\n",
       "      <td>33.0</td>\n",
       "      <td>33.0</td>\n",
       "      <td>Hour</td>\n",
       "      <td>33.0</td>\n",
       "    </tr>\n",
       "    <tr>\n",
       "      <th>1</th>\n",
       "      <td>CERTIFIED</td>\n",
       "      <td>Y</td>\n",
       "      <td>11-2011</td>\n",
       "      <td>56142.0</td>\n",
       "      <td>Y</td>\n",
       "      <td>1.0</td>\n",
       "      <td>N</td>\n",
       "      <td>N</td>\n",
       "      <td>NaN</td>\n",
       "      <td>NaN</td>\n",
       "      <td>NaN</td>\n",
       "      <td>NaN</td>\n",
       "      <td>99000.0</td>\n",
       "      <td>99000.0</td>\n",
       "      <td>Year</td>\n",
       "      <td>99000.0</td>\n",
       "    </tr>\n",
       "    <tr>\n",
       "      <th>2</th>\n",
       "      <td>CERTIFIED</td>\n",
       "      <td>N</td>\n",
       "      <td>11-2011</td>\n",
       "      <td>611310.0</td>\n",
       "      <td>Y</td>\n",
       "      <td>1.0</td>\n",
       "      <td>N</td>\n",
       "      <td>N</td>\n",
       "      <td>NaN</td>\n",
       "      <td>55370.0</td>\n",
       "      <td>Year</td>\n",
       "      <td>Level I</td>\n",
       "      <td>67500.0</td>\n",
       "      <td>67500.0</td>\n",
       "      <td>Year</td>\n",
       "      <td>67500.0</td>\n",
       "    </tr>\n",
       "    <tr>\n",
       "      <th>3</th>\n",
       "      <td>CERTIFIED</td>\n",
       "      <td>Y</td>\n",
       "      <td>11-2011</td>\n",
       "      <td>541830.0</td>\n",
       "      <td>Y</td>\n",
       "      <td>1.0</td>\n",
       "      <td>N</td>\n",
       "      <td>N</td>\n",
       "      <td>NaN</td>\n",
       "      <td>94806.0</td>\n",
       "      <td>Year</td>\n",
       "      <td>Level I</td>\n",
       "      <td>102000.0</td>\n",
       "      <td>102000.0</td>\n",
       "      <td>Year</td>\n",
       "      <td>102000.0</td>\n",
       "    </tr>\n",
       "    <tr>\n",
       "      <th>4</th>\n",
       "      <td>CERTIFIED</td>\n",
       "      <td>Y</td>\n",
       "      <td>11-2011</td>\n",
       "      <td>334111.0</td>\n",
       "      <td>Y</td>\n",
       "      <td>50.0</td>\n",
       "      <td>N</td>\n",
       "      <td>N</td>\n",
       "      <td>NaN</td>\n",
       "      <td>97781.0</td>\n",
       "      <td>Year</td>\n",
       "      <td>Level II</td>\n",
       "      <td>97781.0</td>\n",
       "      <td>97781.0</td>\n",
       "      <td>Year</td>\n",
       "      <td>97781.0</td>\n",
       "    </tr>\n",
       "  </tbody>\n",
       "</table>\n",
       "</div>"
      ],
      "text/plain": [
       "  CASE_STATUS AGENT_REPRESENTING_EMPLOYER SOC_CODE  NAICS_CODE  \\\n",
       "0   CERTIFIED                           Y  11-2011    511210.0   \n",
       "1   CERTIFIED                           Y  11-2011     56142.0   \n",
       "2   CERTIFIED                           N  11-2011    611310.0   \n",
       "3   CERTIFIED                           Y  11-2011    541830.0   \n",
       "4   CERTIFIED                           Y  11-2011    334111.0   \n",
       "\n",
       "  FULL_TIME_POSITION  TOTAL_WORKER_POSITIONS H-1B_DEPENDENT WILLFUL_VIOLATOR  \\\n",
       "0                  N                     1.0              N                N   \n",
       "1                  Y                     1.0              N                N   \n",
       "2                  Y                     1.0              N                N   \n",
       "3                  Y                     1.0              N                N   \n",
       "4                  Y                    50.0              N                N   \n",
       "\n",
       "  SECONDARY_ENTITY_1  PREVAILING_WAGE_1 PW_UNIT_OF_PAY_1 PW_WAGE_LEVEL_1  \\\n",
       "0                NaN                NaN              NaN             NaN   \n",
       "1                NaN                NaN              NaN             NaN   \n",
       "2                NaN            55370.0             Year         Level I   \n",
       "3                NaN            94806.0             Year         Level I   \n",
       "4                NaN            97781.0             Year        Level II   \n",
       "\n",
       "   WAGE_RATE_OF_PAY_FROM_1  WAGE_RATE_OF_PAY_TO_1 WAGE_UNIT_OF_PAY_1  \\\n",
       "0                     33.0                   33.0               Hour   \n",
       "1                  99000.0                99000.0               Year   \n",
       "2                  67500.0                67500.0               Year   \n",
       "3                 102000.0               102000.0               Year   \n",
       "4                  97781.0                97781.0               Year   \n",
       "\n",
       "   MEAN_WAGE_RATE  \n",
       "0            33.0  \n",
       "1         99000.0  \n",
       "2         67500.0  \n",
       "3        102000.0  \n",
       "4         97781.0  "
      ]
     },
     "execution_count": 8,
     "metadata": {},
     "output_type": "execute_result"
    }
   ],
   "source": [
    "col_mean = df_1.loc[:,'WAGE_RATE_OF_PAY_FROM_1':'WAGE_RATE_OF_PAY_TO_1']\n",
    "df_1['MEAN_WAGE_RATE'] = col_mean.mean(axis = 1)\n",
    "df_1.head()"
   ]
  },
  {
   "cell_type": "markdown",
   "metadata": {},
   "source": [
    "Our next task is to level all the entries in PREVAILING_WAGE_1 and MEAN_WAGE_RATE so that PW_UNIT_OF_PAY_1 = Year"
   ]
  },
  {
   "cell_type": "code",
   "execution_count": 9,
   "metadata": {},
   "outputs": [],
   "source": [
    "df_2 = df_1.copy()"
   ]
  },
  {
   "cell_type": "code",
   "execution_count": 10,
   "metadata": {},
   "outputs": [
    {
     "data": {
      "text/plain": [
       "Year         540074\n",
       "Hour          38721\n",
       "Month           182\n",
       "Bi-Weekly        76\n",
       "Week             72\n",
       "Name: PW_UNIT_OF_PAY_1, dtype: int64"
      ]
     },
     "execution_count": 10,
     "metadata": {},
     "output_type": "execute_result"
    }
   ],
   "source": [
    "df_2['PW_UNIT_OF_PAY_1'].value_counts()"
   ]
  },
  {
   "cell_type": "code",
   "execution_count": 11,
   "metadata": {},
   "outputs": [
    {
     "name": "stdout",
     "output_type": "stream",
     "text": [
      "  CASE_STATUS AGENT_REPRESENTING_EMPLOYER SOC_CODE  NAICS_CODE  \\\n",
      "0   CERTIFIED                           Y  11-2011    511210.0   \n",
      "1   CERTIFIED                           Y  11-2011     56142.0   \n",
      "2   CERTIFIED                           N  11-2011    611310.0   \n",
      "3   CERTIFIED                           Y  11-2011    541830.0   \n",
      "4   CERTIFIED                           Y  11-2011    334111.0   \n",
      "\n",
      "  FULL_TIME_POSITION  TOTAL_WORKER_POSITIONS H-1B_DEPENDENT WILLFUL_VIOLATOR  \\\n",
      "0                  N                     1.0              N                N   \n",
      "1                  Y                     1.0              N                N   \n",
      "2                  Y                     1.0              N                N   \n",
      "3                  Y                     1.0              N                N   \n",
      "4                  Y                    50.0              N                N   \n",
      "\n",
      "  SECONDARY_ENTITY_1  PREVAILING_WAGE_1 PW_UNIT_OF_PAY_1 PW_WAGE_LEVEL_1  \\\n",
      "0                NaN                NaN              NaN             NaN   \n",
      "1                NaN                NaN              NaN             NaN   \n",
      "2                NaN            55370.0             Year         Level I   \n",
      "3                NaN            94806.0             Year         Level I   \n",
      "4                NaN            97781.0             Year        Level II   \n",
      "\n",
      "   WAGE_RATE_OF_PAY_FROM_1  WAGE_RATE_OF_PAY_TO_1 WAGE_UNIT_OF_PAY_1  \\\n",
      "0                     33.0                   33.0               Hour   \n",
      "1                  99000.0                99000.0               Year   \n",
      "2                  67500.0                67500.0               Year   \n",
      "3                 102000.0               102000.0               Year   \n",
      "4                  97781.0                97781.0               Year   \n",
      "\n",
      "   MEAN_WAGE_RATE  PREVAILING_WAGE_YEARLY  \n",
      "0            33.0                     NaN  \n",
      "1         99000.0                     NaN  \n",
      "2         67500.0                 55370.0  \n",
      "3        102000.0                 94806.0  \n",
      "4         97781.0                 97781.0  \n"
     ]
    }
   ],
   "source": [
    "df_2.loc[df_2['PW_UNIT_OF_PAY_1'] == \"Hour\", 'PREVAILING_WAGE_YEARLY'] = df_2['PREVAILING_WAGE_1']*40*52\n",
    "df_2.loc[df_2['PW_UNIT_OF_PAY_1'] == \"Week\", 'PREVAILING_WAGE_YEARLY'] = df_2['PREVAILING_WAGE_1']*52\n",
    "df_2.loc[df_2['PW_UNIT_OF_PAY_1'] == \"Bi-Weekly\", 'PREVAILING_WAGE_YEARLY'] = df_2['PREVAILING_WAGE_1']*26\n",
    "df_2.loc[df_2['PW_UNIT_OF_PAY_1'] == \"Month\", 'PREVAILING_WAGE_YEARLY'] = df_2['PREVAILING_WAGE_1']*12\n",
    "df_2.loc[df_2['PW_UNIT_OF_PAY_1'] == \"Year\", 'PREVAILING_WAGE_YEARLY'] = df_2['PREVAILING_WAGE_1']\n",
    "\n",
    "print(df_2.head())"
   ]
  },
  {
   "cell_type": "code",
   "execution_count": 12,
   "metadata": {},
   "outputs": [
    {
     "data": {
      "text/plain": [
       "Year         544164\n",
       "Hour          39146\n",
       "Month           324\n",
       "Bi-Weekly        95\n",
       "Week             73\n",
       "Name: WAGE_UNIT_OF_PAY_1, dtype: int64"
      ]
     },
     "execution_count": 12,
     "metadata": {},
     "output_type": "execute_result"
    }
   ],
   "source": [
    "df_2['WAGE_UNIT_OF_PAY_1'].value_counts()"
   ]
  },
  {
   "cell_type": "code",
   "execution_count": 13,
   "metadata": {},
   "outputs": [
    {
     "name": "stdout",
     "output_type": "stream",
     "text": [
      "  CASE_STATUS AGENT_REPRESENTING_EMPLOYER SOC_CODE  NAICS_CODE  \\\n",
      "0   CERTIFIED                           Y  11-2011    511210.0   \n",
      "1   CERTIFIED                           Y  11-2011     56142.0   \n",
      "2   CERTIFIED                           N  11-2011    611310.0   \n",
      "3   CERTIFIED                           Y  11-2011    541830.0   \n",
      "4   CERTIFIED                           Y  11-2011    334111.0   \n",
      "\n",
      "  FULL_TIME_POSITION  TOTAL_WORKER_POSITIONS H-1B_DEPENDENT WILLFUL_VIOLATOR  \\\n",
      "0                  N                     1.0              N                N   \n",
      "1                  Y                     1.0              N                N   \n",
      "2                  Y                     1.0              N                N   \n",
      "3                  Y                     1.0              N                N   \n",
      "4                  Y                    50.0              N                N   \n",
      "\n",
      "  SECONDARY_ENTITY_1  PREVAILING_WAGE_1 PW_UNIT_OF_PAY_1 PW_WAGE_LEVEL_1  \\\n",
      "0                NaN                NaN              NaN             NaN   \n",
      "1                NaN                NaN              NaN             NaN   \n",
      "2                NaN            55370.0             Year         Level I   \n",
      "3                NaN            94806.0             Year         Level I   \n",
      "4                NaN            97781.0             Year        Level II   \n",
      "\n",
      "   WAGE_RATE_OF_PAY_FROM_1  WAGE_RATE_OF_PAY_TO_1 WAGE_UNIT_OF_PAY_1  \\\n",
      "0                     33.0                   33.0               Hour   \n",
      "1                  99000.0                99000.0               Year   \n",
      "2                  67500.0                67500.0               Year   \n",
      "3                 102000.0               102000.0               Year   \n",
      "4                  97781.0                97781.0               Year   \n",
      "\n",
      "   MEAN_WAGE_RATE  PREVAILING_WAGE_YEARLY  MEAN_WAGE_RATE_YEARLY  \n",
      "0            33.0                     NaN                68640.0  \n",
      "1         99000.0                     NaN                99000.0  \n",
      "2         67500.0                 55370.0                67500.0  \n",
      "3        102000.0                 94806.0               102000.0  \n",
      "4         97781.0                 97781.0                97781.0  \n"
     ]
    }
   ],
   "source": [
    "df_2.loc[df_2['WAGE_UNIT_OF_PAY_1'] == \"Hour\", 'MEAN_WAGE_RATE_YEARLY'] = df_2['MEAN_WAGE_RATE']*40*52 \n",
    "#assuming there are 40 hours of work per week\n",
    "df_2.loc[df_2['WAGE_UNIT_OF_PAY_1'] == \"Week\", 'MEAN_WAGE_RATE_YEARLY'] = df_2['MEAN_WAGE_RATE']*52\n",
    "df_2.loc[df_2['WAGE_UNIT_OF_PAY_1'] == \"Bi-Weekly\", 'MEAN_WAGE_RATE_YEARLY'] = df_2['MEAN_WAGE_RATE']*26\n",
    "df_2.loc[df_2['WAGE_UNIT_OF_PAY_1'] == \"Month\", 'MEAN_WAGE_RATE_YEARLY'] = df_2['MEAN_WAGE_RATE']*12\n",
    "df_2.loc[df_2['WAGE_UNIT_OF_PAY_1'] == \"Year\", 'MEAN_WAGE_RATE_YEARLY'] = df_2['MEAN_WAGE_RATE']\n",
    "\n",
    "print(df_2.head())        "
   ]
  },
  {
   "cell_type": "markdown",
   "metadata": {},
   "source": [
    "Before moving forward, I am going to drop all the NA values as we have tackled all the NA values in the WAGE_RATE_OF_PAY_TO_1 column."
   ]
  },
  {
   "cell_type": "code",
   "execution_count": 14,
   "metadata": {},
   "outputs": [
    {
     "data": {
      "text/plain": [
       "(508332, 18)"
      ]
     },
     "execution_count": 14,
     "metadata": {},
     "output_type": "execute_result"
    }
   ],
   "source": [
    "df_3 = df_2.dropna()\n",
    "df_3.shape"
   ]
  },
  {
   "cell_type": "markdown",
   "metadata": {},
   "source": [
    "### SOC_CODE: remove all regular expressions"
   ]
  },
  {
   "cell_type": "code",
   "execution_count": 15,
   "metadata": {},
   "outputs": [],
   "source": [
    "df_4 = df_3.copy()\n",
    "df_4['SOC_CODE'] = df_4['SOC_CODE'].str.replace(\"'\",\"\")"
   ]
  },
  {
   "cell_type": "markdown",
   "metadata": {},
   "source": [
    "### SOC_CODE into SOC_CODE_MAIN_CATEGORY: Alternative 1"
   ]
  },
  {
   "cell_type": "markdown",
   "metadata": {},
   "source": [
    "For 'SOC_CODE', we only require the first two digits(before -) which is the main category of the occupation for analysis."
   ]
  },
  {
   "cell_type": "markdown",
   "metadata": {},
   "source": [
    "The Standard Occupational Classification (SOC) system is used by U.S. government agencies to classify workers into occupational categories for the purposes of collecting, calculating or disseminating data. \n",
    "Users of occupational data include government program managers, industrial and labor relations practitioners, students considering career training, job seekers, vocational training schools, and employers wishing to set salary scales or locate a new plant. The SOC codes have a hierarchical format, so for example the code \"15-0000\" refers to occupations in the \"Computer and Mathematical Occupations\" category, and \"15-1130\" is a subset for \"Software Developers and Programmers\". Please note that this code describes occupations held by individuals and does not describe the industries in which people work. The SOC does not categorize industries or employers. There are parallel category systems for industries used with SOC data, most commonly NAICS"
   ]
  },
  {
   "cell_type": "code",
   "execution_count": 16,
   "metadata": {},
   "outputs": [
    {
     "data": {
      "text/plain": [
       "8     11\n",
       "9     11\n",
       "10    11\n",
       "11    11\n",
       "12    11\n",
       "Name: SOC_CODE_MAIN_CATEGORY, dtype: object"
      ]
     },
     "execution_count": 16,
     "metadata": {},
     "output_type": "execute_result"
    }
   ],
   "source": [
    "df_4['SOC_CODE_MAIN_CATEGORY'] = df_4['SOC_CODE'].str.split(\"-\").str[0]\n",
    "df_4['SOC_CODE_MAIN_CATEGORY'].head()"
   ]
  },
  {
   "cell_type": "code",
   "execution_count": 17,
   "metadata": {},
   "outputs": [
    {
     "data": {
      "text/plain": [
       "15    365170\n",
       "17     39694\n",
       "13     38950\n",
       "19     16338\n",
       "11     16081\n",
       "29     10344\n",
       "25      9806\n",
       "27      5979\n",
       "41      2539\n",
       "23      1960\n",
       "21       968\n",
       "43       265\n",
       "39        50\n",
       "35        48\n",
       "53        36\n",
       "51        29\n",
       "49        22\n",
       "47        22\n",
       "31        14\n",
       "33         9\n",
       "45         5\n",
       "37         3\n",
       "Name: SOC_CODE_MAIN_CATEGORY, dtype: int64"
      ]
     },
     "execution_count": 17,
     "metadata": {},
     "output_type": "execute_result"
    }
   ],
   "source": [
    "df_4['SOC_CODE_MAIN_CATEGORY'].value_counts()"
   ]
  },
  {
   "cell_type": "markdown",
   "metadata": {},
   "source": [
    "### SOC_CODE into STEM: Alternative 2\n",
    "The SOC_CODE can be converted to less categories by dividing the Jobs into STEM jobs or not. STEM stands for Science, Technology, Engineering and Mathematics.\n",
    "\n",
    "For identifying which SOC categories fall into STEM jobs, I have refered to https://www.bls.gov/soc/2018/home.htm. Under the 2018 SOC Crosswalks tab, you can find a PDF (https://www.bls.gov/soc/Attachment_B_STEM_2018.pdf) or even download an Excel file. I downloaded an excel file and found the STEM categories under gray and Blue cell color. I did not take 'related' jobs into consideration."
   ]
  },
  {
   "cell_type": "code",
   "execution_count": 18,
   "metadata": {},
   "outputs": [
    {
     "data": {
      "text/plain": [
       "17-3026    1\n",
       "11-9121    1\n",
       "17-3023    1\n",
       "19-4021    1\n",
       "19-3041    1\n",
       "          ..\n",
       "19-1032    1\n",
       "17-2061    1\n",
       "25-1062    1\n",
       "19-3094    1\n",
       "15-2011    1\n",
       "Name: CODE, Length: 117, dtype: int64"
      ]
     },
     "execution_count": 18,
     "metadata": {},
     "output_type": "execute_result"
    }
   ],
   "source": [
    "df_soc_stem = pd.read_csv('soc_to_stem.csv',sep = ',', header = None, names = ['CODE'])\n",
    "df_soc_stem['CODE'].value_counts()"
   ]
  },
  {
   "cell_type": "code",
   "execution_count": 19,
   "metadata": {},
   "outputs": [
    {
     "data": {
      "text/plain": [
       "0    11-3021\n",
       "1    11-9121\n",
       "2    15-1211\n",
       "3    15-1212\n",
       "4    15-1221\n",
       "Name: CODE, dtype: object"
      ]
     },
     "execution_count": 19,
     "metadata": {},
     "output_type": "execute_result"
    }
   ],
   "source": [
    "list_soc_stem = df_soc_stem['CODE'].str.strip()\n",
    "list_soc_stem.head()"
   ]
  },
  {
   "cell_type": "code",
   "execution_count": 20,
   "metadata": {},
   "outputs": [
    {
     "data": {
      "text/plain": [
       "508332"
      ]
     },
     "execution_count": 20,
     "metadata": {},
     "output_type": "execute_result"
    }
   ],
   "source": [
    "list_soc_code = df_4['SOC_CODE']\n",
    "stem_category = []\n",
    "\n",
    "for i in list_soc_code:\n",
    "    if(i in list_soc_stem):\n",
    "        stem_category.append('Y')\n",
    "    else:\n",
    "        stem_category.append('N')\n",
    "    \n",
    "len(stem_category) #508332\n",
    "# stem_category[0:5]"
   ]
  },
  {
   "cell_type": "code",
   "execution_count": 21,
   "metadata": {},
   "outputs": [
    {
     "data": {
      "text/plain": [
       "N    508332\n",
       "Name: STEM_CATEGORY, dtype: int64"
      ]
     },
     "execution_count": 21,
     "metadata": {},
     "output_type": "execute_result"
    }
   ],
   "source": [
    "df_4['STEM_CATEGORY'] = stem_category\n",
    "df_4['STEM_CATEGORY'].value_counts()"
   ]
  },
  {
   "cell_type": "markdown",
   "metadata": {},
   "source": [
    "### NAICS_CODE"
   ]
  },
  {
   "cell_type": "markdown",
   "metadata": {},
   "source": [
    "The NAICS_CODE for H1B Visa is the North American Industry Classification System Code which has code that represent industry classification within the North American Industry Classification System.The first two digits represent the main category of the industry. \n",
    "https://www.census.gov/eos/www/naics/2017NAICS/2017_NAICS_Manual.pdf"
   ]
  },
  {
   "cell_type": "code",
   "execution_count": 22,
   "metadata": {},
   "outputs": [
    {
     "data": {
      "text/plain": [
       "541511.0    171361\n",
       "541512.0     53428\n",
       "5416.0       16871\n",
       "611310.0     14948\n",
       "54151.0      12785\n",
       "             ...  \n",
       "327999.0         1\n",
       "5152.0           1\n",
       "331318.0         1\n",
       "331420.0         1\n",
       "524290.0         1\n",
       "Name: NAICS_CODE, Length: 1912, dtype: int64"
      ]
     },
     "execution_count": 22,
     "metadata": {},
     "output_type": "execute_result"
    }
   ],
   "source": [
    "df_5 = df_4.copy()\n",
    "df_5['NAICS_CODE'].value_counts()"
   ]
  },
  {
   "cell_type": "markdown",
   "metadata": {},
   "source": [
    "Our NAICS_CODE is a float64 datatype. We convert it into string first and then choose the first two digits."
   ]
  },
  {
   "cell_type": "code",
   "execution_count": 23,
   "metadata": {},
   "outputs": [
    {
     "data": {
      "text/plain": [
       "dtype('float64')"
      ]
     },
     "execution_count": 23,
     "metadata": {},
     "output_type": "execute_result"
    }
   ],
   "source": [
    "df_5['NAICS_CODE'].dtype"
   ]
  },
  {
   "cell_type": "code",
   "execution_count": 24,
   "metadata": {},
   "outputs": [
    {
     "data": {
      "text/plain": [
       "8     33\n",
       "9     51\n",
       "10    54\n",
       "11    51\n",
       "12    31\n",
       "Name: NAICS_CODE_MAIN_CATEGORY, dtype: object"
      ]
     },
     "execution_count": 24,
     "metadata": {},
     "output_type": "execute_result"
    }
   ],
   "source": [
    "df_5['NAICS_CODE_MAIN_CATEGORY'] = df_5['NAICS_CODE'].astype(str).str[0:2]\n",
    "df_5['NAICS_CODE_MAIN_CATEGORY'].head()"
   ]
  },
  {
   "cell_type": "code",
   "execution_count": 25,
   "metadata": {},
   "outputs": [
    {
     "data": {
      "text/plain": [
       "29"
      ]
     },
     "execution_count": 25,
     "metadata": {},
     "output_type": "execute_result"
    }
   ],
   "source": [
    "df_5['NAICS_CODE_MAIN_CATEGORY'].value_counts().count()"
   ]
  },
  {
   "cell_type": "code",
   "execution_count": 26,
   "metadata": {},
   "outputs": [
    {
     "data": {
      "text/plain": [
       "array(['33', '51', '54', '31', '72', '44', '56', '71', '52', '61', '62',\n",
       "       '45', '49', '81', '53', '42', '48', '32', '22', '23', '55', '21',\n",
       "       '92', '11', '10', '35', '50', '26', '12'], dtype=object)"
      ]
     },
     "execution_count": 26,
     "metadata": {},
     "output_type": "execute_result"
    }
   ],
   "source": [
    "df_5['NAICS_CODE_MAIN_CATEGORY'].unique()"
   ]
  },
  {
   "cell_type": "code",
   "execution_count": 27,
   "metadata": {
    "scrolled": true
   },
   "outputs": [
    {
     "data": {
      "text/html": [
       "<div>\n",
       "<style scoped>\n",
       "    .dataframe tbody tr th:only-of-type {\n",
       "        vertical-align: middle;\n",
       "    }\n",
       "\n",
       "    .dataframe tbody tr th {\n",
       "        vertical-align: top;\n",
       "    }\n",
       "\n",
       "    .dataframe thead th {\n",
       "        text-align: right;\n",
       "    }\n",
       "</style>\n",
       "<table border=\"1\" class=\"dataframe\">\n",
       "  <thead>\n",
       "    <tr style=\"text-align: right;\">\n",
       "      <th></th>\n",
       "      <th>CASE_STATUS</th>\n",
       "      <th>AGENT_REPRESENTING_EMPLOYER</th>\n",
       "      <th>SOC_CODE</th>\n",
       "      <th>NAICS_CODE</th>\n",
       "      <th>FULL_TIME_POSITION</th>\n",
       "      <th>TOTAL_WORKER_POSITIONS</th>\n",
       "      <th>H-1B_DEPENDENT</th>\n",
       "      <th>WILLFUL_VIOLATOR</th>\n",
       "      <th>SECONDARY_ENTITY_1</th>\n",
       "      <th>PREVAILING_WAGE_1</th>\n",
       "      <th>...</th>\n",
       "      <th>PW_WAGE_LEVEL_1</th>\n",
       "      <th>WAGE_RATE_OF_PAY_FROM_1</th>\n",
       "      <th>WAGE_RATE_OF_PAY_TO_1</th>\n",
       "      <th>WAGE_UNIT_OF_PAY_1</th>\n",
       "      <th>MEAN_WAGE_RATE</th>\n",
       "      <th>PREVAILING_WAGE_YEARLY</th>\n",
       "      <th>MEAN_WAGE_RATE_YEARLY</th>\n",
       "      <th>SOC_CODE_MAIN_CATEGORY</th>\n",
       "      <th>STEM_CATEGORY</th>\n",
       "      <th>NAICS_CODE_MAIN_CATEGORY</th>\n",
       "    </tr>\n",
       "  </thead>\n",
       "  <tbody>\n",
       "    <tr>\n",
       "      <th>8</th>\n",
       "      <td>CERTIFIED</td>\n",
       "      <td>Y</td>\n",
       "      <td>11-2011</td>\n",
       "      <td>334111.0</td>\n",
       "      <td>Y</td>\n",
       "      <td>1.0</td>\n",
       "      <td>N</td>\n",
       "      <td>N</td>\n",
       "      <td>N</td>\n",
       "      <td>154232.00</td>\n",
       "      <td>...</td>\n",
       "      <td>Level IV</td>\n",
       "      <td>154232.00</td>\n",
       "      <td>225400.00</td>\n",
       "      <td>Year</td>\n",
       "      <td>189816.00</td>\n",
       "      <td>154232.0</td>\n",
       "      <td>189816.0</td>\n",
       "      <td>11</td>\n",
       "      <td>N</td>\n",
       "      <td>33</td>\n",
       "    </tr>\n",
       "    <tr>\n",
       "      <th>9</th>\n",
       "      <td>CERTIFIED</td>\n",
       "      <td>Y</td>\n",
       "      <td>11-2011</td>\n",
       "      <td>516110.0</td>\n",
       "      <td>N</td>\n",
       "      <td>1.0</td>\n",
       "      <td>N</td>\n",
       "      <td>N</td>\n",
       "      <td>N</td>\n",
       "      <td>47.01</td>\n",
       "      <td>...</td>\n",
       "      <td>Level II</td>\n",
       "      <td>47.01</td>\n",
       "      <td>47.01</td>\n",
       "      <td>Hour</td>\n",
       "      <td>47.01</td>\n",
       "      <td>97780.8</td>\n",
       "      <td>97780.8</td>\n",
       "      <td>11</td>\n",
       "      <td>N</td>\n",
       "      <td>51</td>\n",
       "    </tr>\n",
       "    <tr>\n",
       "      <th>10</th>\n",
       "      <td>CERTIFIED</td>\n",
       "      <td>Y</td>\n",
       "      <td>11-2011</td>\n",
       "      <td>541512.0</td>\n",
       "      <td>Y</td>\n",
       "      <td>1.0</td>\n",
       "      <td>N</td>\n",
       "      <td>N</td>\n",
       "      <td>N</td>\n",
       "      <td>47549.00</td>\n",
       "      <td>...</td>\n",
       "      <td>Level I</td>\n",
       "      <td>47549.00</td>\n",
       "      <td>47549.00</td>\n",
       "      <td>Year</td>\n",
       "      <td>47549.00</td>\n",
       "      <td>47549.0</td>\n",
       "      <td>47549.0</td>\n",
       "      <td>11</td>\n",
       "      <td>N</td>\n",
       "      <td>54</td>\n",
       "    </tr>\n",
       "    <tr>\n",
       "      <th>11</th>\n",
       "      <td>CERTIFIED</td>\n",
       "      <td>Y</td>\n",
       "      <td>11-2011</td>\n",
       "      <td>518112.0</td>\n",
       "      <td>Y</td>\n",
       "      <td>1.0</td>\n",
       "      <td>Y</td>\n",
       "      <td>N</td>\n",
       "      <td>N</td>\n",
       "      <td>156146.00</td>\n",
       "      <td>...</td>\n",
       "      <td>Level IV</td>\n",
       "      <td>214230.00</td>\n",
       "      <td>214230.00</td>\n",
       "      <td>Year</td>\n",
       "      <td>214230.00</td>\n",
       "      <td>156146.0</td>\n",
       "      <td>214230.0</td>\n",
       "      <td>11</td>\n",
       "      <td>N</td>\n",
       "      <td>51</td>\n",
       "    </tr>\n",
       "    <tr>\n",
       "      <th>12</th>\n",
       "      <td>CERTIFIED</td>\n",
       "      <td>Y</td>\n",
       "      <td>11-2011</td>\n",
       "      <td>31222.0</td>\n",
       "      <td>Y</td>\n",
       "      <td>1.0</td>\n",
       "      <td>N</td>\n",
       "      <td>N</td>\n",
       "      <td>N</td>\n",
       "      <td>75026.00</td>\n",
       "      <td>...</td>\n",
       "      <td>Level II</td>\n",
       "      <td>90000.00</td>\n",
       "      <td>110000.00</td>\n",
       "      <td>Year</td>\n",
       "      <td>100000.00</td>\n",
       "      <td>75026.0</td>\n",
       "      <td>100000.0</td>\n",
       "      <td>11</td>\n",
       "      <td>N</td>\n",
       "      <td>31</td>\n",
       "    </tr>\n",
       "  </tbody>\n",
       "</table>\n",
       "<p>5 rows × 21 columns</p>\n",
       "</div>"
      ],
      "text/plain": [
       "   CASE_STATUS AGENT_REPRESENTING_EMPLOYER SOC_CODE  NAICS_CODE  \\\n",
       "8    CERTIFIED                           Y  11-2011    334111.0   \n",
       "9    CERTIFIED                           Y  11-2011    516110.0   \n",
       "10   CERTIFIED                           Y  11-2011    541512.0   \n",
       "11   CERTIFIED                           Y  11-2011    518112.0   \n",
       "12   CERTIFIED                           Y  11-2011     31222.0   \n",
       "\n",
       "   FULL_TIME_POSITION  TOTAL_WORKER_POSITIONS H-1B_DEPENDENT WILLFUL_VIOLATOR  \\\n",
       "8                   Y                     1.0              N                N   \n",
       "9                   N                     1.0              N                N   \n",
       "10                  Y                     1.0              N                N   \n",
       "11                  Y                     1.0              Y                N   \n",
       "12                  Y                     1.0              N                N   \n",
       "\n",
       "   SECONDARY_ENTITY_1  PREVAILING_WAGE_1  ... PW_WAGE_LEVEL_1  \\\n",
       "8                   N          154232.00  ...        Level IV   \n",
       "9                   N              47.01  ...        Level II   \n",
       "10                  N           47549.00  ...         Level I   \n",
       "11                  N          156146.00  ...        Level IV   \n",
       "12                  N           75026.00  ...        Level II   \n",
       "\n",
       "   WAGE_RATE_OF_PAY_FROM_1  WAGE_RATE_OF_PAY_TO_1  WAGE_UNIT_OF_PAY_1  \\\n",
       "8                154232.00              225400.00                Year   \n",
       "9                    47.01                  47.01                Hour   \n",
       "10                47549.00               47549.00                Year   \n",
       "11               214230.00              214230.00                Year   \n",
       "12                90000.00              110000.00                Year   \n",
       "\n",
       "   MEAN_WAGE_RATE  PREVAILING_WAGE_YEARLY  MEAN_WAGE_RATE_YEARLY  \\\n",
       "8       189816.00                154232.0               189816.0   \n",
       "9           47.01                 97780.8                97780.8   \n",
       "10       47549.00                 47549.0                47549.0   \n",
       "11      214230.00                156146.0               214230.0   \n",
       "12      100000.00                 75026.0               100000.0   \n",
       "\n",
       "    SOC_CODE_MAIN_CATEGORY STEM_CATEGORY NAICS_CODE_MAIN_CATEGORY  \n",
       "8                       11             N                       33  \n",
       "9                       11             N                       51  \n",
       "10                      11             N                       54  \n",
       "11                      11             N                       51  \n",
       "12                      11             N                       31  \n",
       "\n",
       "[5 rows x 21 columns]"
      ]
     },
     "execution_count": 27,
     "metadata": {},
     "output_type": "execute_result"
    }
   ],
   "source": [
    "df_5.head()"
   ]
  },
  {
   "cell_type": "markdown",
   "metadata": {},
   "source": [
    "In order to reduce the categories in 'EMPLOYER_STATE', I will put all the categories with less than 1000 applications under 'Other'. There are 47 categories in total and I reduce it to 14."
   ]
  },
  {
   "cell_type": "code",
   "execution_count": 28,
   "metadata": {},
   "outputs": [],
   "source": [
    "# df_6['EMPLOYER_STATE'].value_counts().count()"
   ]
  },
  {
   "cell_type": "code",
   "execution_count": 29,
   "metadata": {},
   "outputs": [],
   "source": [
    "# employee_state_count = df_5['EMPLOYER_STATE'].value_counts()\n",
    "# employee_state_count"
   ]
  },
  {
   "cell_type": "code",
   "execution_count": 30,
   "metadata": {},
   "outputs": [],
   "source": [
    "# len(employee_state_count[employee_state_count <= 1000])"
   ]
  },
  {
   "cell_type": "markdown",
   "metadata": {},
   "source": [
    "There are 34 states with applicants less than 1000. Let's put these states into 'Other' using lambda function."
   ]
  },
  {
   "cell_type": "code",
   "execution_count": 31,
   "metadata": {},
   "outputs": [],
   "source": [
    "# emp_state_list_less_than_1000 = employee_state_count[employee_state_count <= 1000]"
   ]
  },
  {
   "cell_type": "code",
   "execution_count": 32,
   "metadata": {},
   "outputs": [],
   "source": [
    "# df_6['EMPLOYER_STATE_1'] = df_6['EMPLOYER_STATE'].apply(lambda x:'Other' if x in emp_state_list_less_than_1000 else x)\n",
    "\n",
    "# df_6['EMPLOYER_STATE_1'].value_counts().count()"
   ]
  },
  {
   "cell_type": "markdown",
   "metadata": {},
   "source": [
    "In order to reduce the categories in 'EMPLOYER_NAME', I will put all the categories with less than 10 applications under 'Other'. There are total of 3503 values of the company which will be reduced to 376."
   ]
  },
  {
   "cell_type": "code",
   "execution_count": 33,
   "metadata": {},
   "outputs": [],
   "source": [
    "# df_7 = df_6.copy()"
   ]
  },
  {
   "cell_type": "code",
   "execution_count": 34,
   "metadata": {},
   "outputs": [],
   "source": [
    "# df_7['EMPLOYER_NAME'].value_counts().count()"
   ]
  },
  {
   "cell_type": "code",
   "execution_count": 35,
   "metadata": {},
   "outputs": [],
   "source": [
    "# employer_name = df_7['EMPLOYER_NAME'].value_counts()\n",
    "# len(employer_name[employer_name <= 50])"
   ]
  },
  {
   "cell_type": "code",
   "execution_count": 36,
   "metadata": {},
   "outputs": [],
   "source": [
    "# emp_name_list_less_than_1000 = employer_name[employer_name <= 50]"
   ]
  },
  {
   "cell_type": "markdown",
   "metadata": {},
   "source": [
    "There are 2103 employers with applicants less than 10 applicants. Let's put these entries into 'Other' using lambda function."
   ]
  },
  {
   "cell_type": "code",
   "execution_count": 37,
   "metadata": {},
   "outputs": [],
   "source": [
    "# df_7['EMPLOYER_NAME_1'] = df_7['EMPLOYER_NAME'].apply(lambda x: 'Other' if x in emp_name_list_less_than_1000 else x)\n",
    "# df_7['EMPLOYER_NAME_1'].value_counts().count()"
   ]
  },
  {
   "cell_type": "markdown",
   "metadata": {},
   "source": [
    "### TOTAL_WORKER_POSITIONS"
   ]
  },
  {
   "cell_type": "code",
   "execution_count": 38,
   "metadata": {},
   "outputs": [
    {
     "data": {
      "text/plain": [
       "1.0      480477\n",
       "2.0        4664\n",
       "15.0       4659\n",
       "3.0        4508\n",
       "5.0        3218\n",
       "10.0       3128\n",
       "6.0        1660\n",
       "25.0       1284\n",
       "20.0       1249\n",
       "50.0       1026\n",
       "4.0         997\n",
       "30.0        533\n",
       "24.0        164\n",
       "8.0         155\n",
       "7.0         132\n",
       "12.0        132\n",
       "40.0         57\n",
       "100.0        55\n",
       "9.0          40\n",
       "75.0         27\n",
       "11.0         23\n",
       "16.0         21\n",
       "13.0         19\n",
       "35.0         16\n",
       "14.0         13\n",
       "18.0         11\n",
       "19.0          8\n",
       "17.0          7\n",
       "175.0         6\n",
       "45.0          4\n",
       "23.0          4\n",
       "60.0          4\n",
       "32.0          3\n",
       "80.0          3\n",
       "150.0         3\n",
       "70.0          2\n",
       "22.0          2\n",
       "300.0         2\n",
       "90.0          2\n",
       "500.0         2\n",
       "28.0          1\n",
       "78.0          1\n",
       "54.0          1\n",
       "43.0          1\n",
       "37.0          1\n",
       "110.0         1\n",
       "47.0          1\n",
       "21.0          1\n",
       "26.0          1\n",
       "76.0          1\n",
       "65.0          1\n",
       "31.0          1\n",
       "Name: TOTAL_WORKER_POSITIONS, dtype: int64"
      ]
     },
     "execution_count": 38,
     "metadata": {},
     "output_type": "execute_result"
    }
   ],
   "source": [
    "df_6 = df_5.copy()\n",
    "df_6['TOTAL_WORKER_POSITIONS'].value_counts()"
   ]
  },
  {
   "cell_type": "markdown",
   "metadata": {},
   "source": [
    "Now, we will drop the original columns that are no longer required and convert it into a csv file for further analysis."
   ]
  },
  {
   "cell_type": "code",
   "execution_count": 39,
   "metadata": {},
   "outputs": [
    {
     "data": {
      "text/html": [
       "<div>\n",
       "<style scoped>\n",
       "    .dataframe tbody tr th:only-of-type {\n",
       "        vertical-align: middle;\n",
       "    }\n",
       "\n",
       "    .dataframe tbody tr th {\n",
       "        vertical-align: top;\n",
       "    }\n",
       "\n",
       "    .dataframe thead th {\n",
       "        text-align: right;\n",
       "    }\n",
       "</style>\n",
       "<table border=\"1\" class=\"dataframe\">\n",
       "  <thead>\n",
       "    <tr style=\"text-align: right;\">\n",
       "      <th></th>\n",
       "      <th>CASE_STATUS</th>\n",
       "      <th>AGENT_REPRESENTING_EMPLOYER</th>\n",
       "      <th>FULL_TIME_POSITION</th>\n",
       "      <th>TOTAL_WORKER_POSITIONS</th>\n",
       "      <th>H-1B_DEPENDENT</th>\n",
       "      <th>WILLFUL_VIOLATOR</th>\n",
       "      <th>SECONDARY_ENTITY_1</th>\n",
       "      <th>PREVAILING_WAGE_YEARLY</th>\n",
       "      <th>MEAN_WAGE_RATE_YEARLY</th>\n",
       "      <th>SOC_CODE_MAIN_CATEGORY</th>\n",
       "      <th>NAICS_CODE_MAIN_CATEGORY</th>\n",
       "    </tr>\n",
       "  </thead>\n",
       "  <tbody>\n",
       "    <tr>\n",
       "      <th>0</th>\n",
       "      <td>CERTIFIED</td>\n",
       "      <td>Y</td>\n",
       "      <td>Y</td>\n",
       "      <td>1.0</td>\n",
       "      <td>N</td>\n",
       "      <td>N</td>\n",
       "      <td>N</td>\n",
       "      <td>154232.0</td>\n",
       "      <td>189816.0</td>\n",
       "      <td>11</td>\n",
       "      <td>33</td>\n",
       "    </tr>\n",
       "    <tr>\n",
       "      <th>1</th>\n",
       "      <td>CERTIFIED</td>\n",
       "      <td>Y</td>\n",
       "      <td>N</td>\n",
       "      <td>1.0</td>\n",
       "      <td>N</td>\n",
       "      <td>N</td>\n",
       "      <td>N</td>\n",
       "      <td>97780.8</td>\n",
       "      <td>97780.8</td>\n",
       "      <td>11</td>\n",
       "      <td>51</td>\n",
       "    </tr>\n",
       "    <tr>\n",
       "      <th>2</th>\n",
       "      <td>CERTIFIED</td>\n",
       "      <td>Y</td>\n",
       "      <td>Y</td>\n",
       "      <td>1.0</td>\n",
       "      <td>N</td>\n",
       "      <td>N</td>\n",
       "      <td>N</td>\n",
       "      <td>47549.0</td>\n",
       "      <td>47549.0</td>\n",
       "      <td>11</td>\n",
       "      <td>54</td>\n",
       "    </tr>\n",
       "    <tr>\n",
       "      <th>3</th>\n",
       "      <td>CERTIFIED</td>\n",
       "      <td>Y</td>\n",
       "      <td>Y</td>\n",
       "      <td>1.0</td>\n",
       "      <td>Y</td>\n",
       "      <td>N</td>\n",
       "      <td>N</td>\n",
       "      <td>156146.0</td>\n",
       "      <td>214230.0</td>\n",
       "      <td>11</td>\n",
       "      <td>51</td>\n",
       "    </tr>\n",
       "    <tr>\n",
       "      <th>4</th>\n",
       "      <td>CERTIFIED</td>\n",
       "      <td>Y</td>\n",
       "      <td>Y</td>\n",
       "      <td>1.0</td>\n",
       "      <td>N</td>\n",
       "      <td>N</td>\n",
       "      <td>N</td>\n",
       "      <td>75026.0</td>\n",
       "      <td>100000.0</td>\n",
       "      <td>11</td>\n",
       "      <td>31</td>\n",
       "    </tr>\n",
       "  </tbody>\n",
       "</table>\n",
       "</div>"
      ],
      "text/plain": [
       "  CASE_STATUS AGENT_REPRESENTING_EMPLOYER FULL_TIME_POSITION  \\\n",
       "0   CERTIFIED                           Y                  Y   \n",
       "1   CERTIFIED                           Y                  N   \n",
       "2   CERTIFIED                           Y                  Y   \n",
       "3   CERTIFIED                           Y                  Y   \n",
       "4   CERTIFIED                           Y                  Y   \n",
       "\n",
       "   TOTAL_WORKER_POSITIONS H-1B_DEPENDENT WILLFUL_VIOLATOR SECONDARY_ENTITY_1  \\\n",
       "0                     1.0              N                N                  N   \n",
       "1                     1.0              N                N                  N   \n",
       "2                     1.0              N                N                  N   \n",
       "3                     1.0              Y                N                  N   \n",
       "4                     1.0              N                N                  N   \n",
       "\n",
       "   PREVAILING_WAGE_YEARLY  MEAN_WAGE_RATE_YEARLY SOC_CODE_MAIN_CATEGORY  \\\n",
       "0                154232.0               189816.0                     11   \n",
       "1                 97780.8                97780.8                     11   \n",
       "2                 47549.0                47549.0                     11   \n",
       "3                156146.0               214230.0                     11   \n",
       "4                 75026.0               100000.0                     11   \n",
       "\n",
       "  NAICS_CODE_MAIN_CATEGORY  \n",
       "0                       33  \n",
       "1                       51  \n",
       "2                       54  \n",
       "3                       51  \n",
       "4                       31  "
      ]
     },
     "execution_count": 39,
     "metadata": {},
     "output_type": "execute_result"
    }
   ],
   "source": [
    "df_7 = df_6.drop(columns=[\n",
    "    'SOC_CODE', # we calculated 'SOC_CODE_MAIN_CATEGORY'\n",
    "    'NAICS_CODE', #we calculated 'NAICS_CODE_MAIN_CATEGORY'\n",
    "    'WAGE_UNIT_OF_PAY_1', # we converted the pay to 'Yearly' unit\n",
    "    'WAGE_RATE_OF_PAY_FROM_1',\n",
    "    'WAGE_RATE_OF_PAY_TO_1', # we computed the 'MEAN_WAGE_RATE_YEARLY'\n",
    "    'PW_UNIT_OF_PAY_1',\n",
    "    'PREVAILING_WAGE_1', # we computed the 'PREVAILING_WAGE_YEARLY'\n",
    "    'MEAN_WAGE_RATE',\n",
    "    'PW_WAGE_LEVEL_1',\n",
    "    'STEM_CATEGORY'\n",
    "])\n",
    "df_7 = df_7.reset_index(drop = True)\n",
    "df_7.head()"
   ]
  },
  {
   "cell_type": "code",
   "execution_count": 40,
   "metadata": {},
   "outputs": [
    {
     "data": {
      "text/plain": [
       "CASE_STATUS                     object\n",
       "AGENT_REPRESENTING_EMPLOYER     object\n",
       "FULL_TIME_POSITION              object\n",
       "TOTAL_WORKER_POSITIONS         float64\n",
       "H-1B_DEPENDENT                  object\n",
       "WILLFUL_VIOLATOR                object\n",
       "SECONDARY_ENTITY_1              object\n",
       "PREVAILING_WAGE_YEARLY         float64\n",
       "MEAN_WAGE_RATE_YEARLY          float64\n",
       "SOC_CODE_MAIN_CATEGORY          object\n",
       "NAICS_CODE_MAIN_CATEGORY        object\n",
       "dtype: object"
      ]
     },
     "execution_count": 40,
     "metadata": {},
     "output_type": "execute_result"
    }
   ],
   "source": [
    "df_7.dtypes"
   ]
  },
  {
   "cell_type": "code",
   "execution_count": 41,
   "metadata": {},
   "outputs": [
    {
     "data": {
      "text/html": [
       "<div>\n",
       "<style scoped>\n",
       "    .dataframe tbody tr th:only-of-type {\n",
       "        vertical-align: middle;\n",
       "    }\n",
       "\n",
       "    .dataframe tbody tr th {\n",
       "        vertical-align: top;\n",
       "    }\n",
       "\n",
       "    .dataframe thead th {\n",
       "        text-align: right;\n",
       "    }\n",
       "</style>\n",
       "<table border=\"1\" class=\"dataframe\">\n",
       "  <thead>\n",
       "    <tr style=\"text-align: right;\">\n",
       "      <th></th>\n",
       "      <th>CASE_STATUS</th>\n",
       "      <th>AGENT_REPRESENTING_EMPLOYER</th>\n",
       "      <th>FULL_TIME_POSITION</th>\n",
       "      <th>TOTAL_WORKER_POSITIONS</th>\n",
       "      <th>H-1B_DEPENDENT</th>\n",
       "      <th>WILLFUL_VIOLATOR</th>\n",
       "      <th>SECONDARY_ENTITY</th>\n",
       "      <th>PREVAILING_WAGE_YEARLY</th>\n",
       "      <th>MEAN_WAGE_RATE_YEARLY</th>\n",
       "      <th>SOC_CODE_MAIN_CATEGORY</th>\n",
       "      <th>NAICS_CODE_MAIN_CATEGORY</th>\n",
       "    </tr>\n",
       "  </thead>\n",
       "  <tbody>\n",
       "    <tr>\n",
       "      <th>0</th>\n",
       "      <td>CERTIFIED</td>\n",
       "      <td>Y</td>\n",
       "      <td>Y</td>\n",
       "      <td>1.0</td>\n",
       "      <td>N</td>\n",
       "      <td>N</td>\n",
       "      <td>N</td>\n",
       "      <td>154232.0</td>\n",
       "      <td>189816.0</td>\n",
       "      <td>11</td>\n",
       "      <td>33</td>\n",
       "    </tr>\n",
       "    <tr>\n",
       "      <th>1</th>\n",
       "      <td>CERTIFIED</td>\n",
       "      <td>Y</td>\n",
       "      <td>N</td>\n",
       "      <td>1.0</td>\n",
       "      <td>N</td>\n",
       "      <td>N</td>\n",
       "      <td>N</td>\n",
       "      <td>97780.8</td>\n",
       "      <td>97780.8</td>\n",
       "      <td>11</td>\n",
       "      <td>51</td>\n",
       "    </tr>\n",
       "    <tr>\n",
       "      <th>2</th>\n",
       "      <td>CERTIFIED</td>\n",
       "      <td>Y</td>\n",
       "      <td>Y</td>\n",
       "      <td>1.0</td>\n",
       "      <td>N</td>\n",
       "      <td>N</td>\n",
       "      <td>N</td>\n",
       "      <td>47549.0</td>\n",
       "      <td>47549.0</td>\n",
       "      <td>11</td>\n",
       "      <td>54</td>\n",
       "    </tr>\n",
       "    <tr>\n",
       "      <th>3</th>\n",
       "      <td>CERTIFIED</td>\n",
       "      <td>Y</td>\n",
       "      <td>Y</td>\n",
       "      <td>1.0</td>\n",
       "      <td>Y</td>\n",
       "      <td>N</td>\n",
       "      <td>N</td>\n",
       "      <td>156146.0</td>\n",
       "      <td>214230.0</td>\n",
       "      <td>11</td>\n",
       "      <td>51</td>\n",
       "    </tr>\n",
       "    <tr>\n",
       "      <th>4</th>\n",
       "      <td>CERTIFIED</td>\n",
       "      <td>Y</td>\n",
       "      <td>Y</td>\n",
       "      <td>1.0</td>\n",
       "      <td>N</td>\n",
       "      <td>N</td>\n",
       "      <td>N</td>\n",
       "      <td>75026.0</td>\n",
       "      <td>100000.0</td>\n",
       "      <td>11</td>\n",
       "      <td>31</td>\n",
       "    </tr>\n",
       "  </tbody>\n",
       "</table>\n",
       "</div>"
      ],
      "text/plain": [
       "  CASE_STATUS AGENT_REPRESENTING_EMPLOYER FULL_TIME_POSITION  \\\n",
       "0   CERTIFIED                           Y                  Y   \n",
       "1   CERTIFIED                           Y                  N   \n",
       "2   CERTIFIED                           Y                  Y   \n",
       "3   CERTIFIED                           Y                  Y   \n",
       "4   CERTIFIED                           Y                  Y   \n",
       "\n",
       "   TOTAL_WORKER_POSITIONS H-1B_DEPENDENT WILLFUL_VIOLATOR SECONDARY_ENTITY  \\\n",
       "0                     1.0              N                N                N   \n",
       "1                     1.0              N                N                N   \n",
       "2                     1.0              N                N                N   \n",
       "3                     1.0              Y                N                N   \n",
       "4                     1.0              N                N                N   \n",
       "\n",
       "   PREVAILING_WAGE_YEARLY  MEAN_WAGE_RATE_YEARLY SOC_CODE_MAIN_CATEGORY  \\\n",
       "0                154232.0               189816.0                     11   \n",
       "1                 97780.8                97780.8                     11   \n",
       "2                 47549.0                47549.0                     11   \n",
       "3                156146.0               214230.0                     11   \n",
       "4                 75026.0               100000.0                     11   \n",
       "\n",
       "  NAICS_CODE_MAIN_CATEGORY  \n",
       "0                       33  \n",
       "1                       51  \n",
       "2                       54  \n",
       "3                       51  \n",
       "4                       31  "
      ]
     },
     "execution_count": 41,
     "metadata": {},
     "output_type": "execute_result"
    }
   ],
   "source": [
    "df_7 = df_7.rename(columns = {'SECONDARY_ENTITY_1':'SECONDARY_ENTITY'})\n",
    "df_7.head()"
   ]
  },
  {
   "cell_type": "code",
   "execution_count": 42,
   "metadata": {},
   "outputs": [
    {
     "name": "stdout",
     "output_type": "stream",
     "text": [
      "File created successfully!\n"
     ]
    }
   ],
   "source": [
    "import os\n",
    "import sys\n",
    "\n",
    "try:\n",
    "    os.remove(\"for_analysis.csv\")\n",
    "except:\n",
    "    print(sys.exc_info()[0], \"occured while deleting file \")\n",
    "\n",
    "df_7.to_csv(\"for_analysis.csv\")\n",
    "print(\"File created successfully!\")"
   ]
  }
 ],
 "metadata": {
  "kernelspec": {
   "display_name": "Python 3",
   "language": "python",
   "name": "python3"
  },
  "language_info": {
   "codemirror_mode": {
    "name": "ipython",
    "version": 3
   },
   "file_extension": ".py",
   "mimetype": "text/x-python",
   "name": "python",
   "nbconvert_exporter": "python",
   "pygments_lexer": "ipython3",
   "version": "3.7.6"
  }
 },
 "nbformat": 4,
 "nbformat_minor": 4
}
